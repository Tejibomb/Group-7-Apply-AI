{
    "metadata": {
        "kernelspec": {
            "name": "python3",
            "display_name": "Python 3 (ipykernel)",
            "language": "python"
        }
    },
    "nbformat": 4,
    "nbformat_minor": 2,
    "cells": [
        {
            "attachments": {},
            "cell_type": "markdown",
            "metadata": {},
            "source": [
                "# **Manipulating and Exploring the Data Set**"
            ]
        },
        {
            "cell_type": "code",
            "execution_count": 520,
            "metadata": {},
            "outputs": [],
            "source": [
                "import pandas as pd\n",
                "import numpy as np \n",
                "import matplotlib as plt\n",
                "from sklearn.model_selection import train_test_split\n",
                "from sklearn.preprocessing import StandardScaler\n",
                "from sklearn.linear_model import LogisticRegression\n",
                "from sklearn.metrics import confusion_matrix\n",
                "from sklearn.datasets import make_classification"
            ]
        },
        {
            "cell_type": "code",
            "execution_count": 521,
            "metadata": {},
            "outputs": [],
            "source": [
                "import sys\n",
                "import numpy\n",
                "numpy.set_printoptions(threshold=10)\n",
                "#numpy.set_printoptions(threshold=sys.maxsize)"
            ]
        },
        {
            "cell_type": "code",
            "execution_count": 522,
            "metadata": {},
            "outputs": [
                {
                    "data": {
                        "text/html": "\u003cdiv\u003e\n\u003cstyle scoped\u003e\n    .dataframe tbody tr th:only-of-type {\n        vertical-align: middle;\n    }\n\n    .dataframe tbody tr th {\n        vertical-align: top;\n    }\n\n    .dataframe thead th {\n        text-align: right;\n    }\n\u003c/style\u003e\n\u003ctable border=\"1\" class=\"dataframe\"\u003e\n  \u003cthead\u003e\n    \u003ctr style=\"text-align: right;\"\u003e\n      \u003cth\u003e\u003c/th\u003e\n      \u003cth\u003ecustomer\u003c/th\u003e\n      \u003cth\u003eage\u003c/th\u003e\n      \u003cth\u003egender\u003c/th\u003e\n      \u003cth\u003ezipcodeOri\u003c/th\u003e\n      \u003cth\u003emerchant\u003c/th\u003e\n      \u003cth\u003ezipMerchant\u003c/th\u003e\n      \u003cth\u003ecategory\u003c/th\u003e\n      \u003cth\u003eamount\u003c/th\u003e\n      \u003cth\u003efraud\u003c/th\u003e\n    \u003c/tr\u003e\n  \u003c/thead\u003e\n  \u003ctbody\u003e\n    \u003ctr\u003e\n      \u003cth\u003e0\u003c/th\u003e\n      \u003ctd\u003eC583110837'\u003c/td\u003e\n      \u003ctd\u003e3'\u003c/td\u003e\n      \u003ctd\u003eM'\u003c/td\u003e\n      \u003ctd\u003e28007'\u003c/td\u003e\n      \u003ctd\u003eM480139044'\u003c/td\u003e\n      \u003ctd\u003e28007'\u003c/td\u003e\n      \u003ctd\u003ees_health'\u003c/td\u003e\n      \u003ctd\u003e44.26\u003c/td\u003e\n      \u003ctd\u003e1\u003c/td\u003e\n    \u003c/tr\u003e\n    \u003ctr\u003e\n      \u003cth\u003e1\u003c/th\u003e\n      \u003ctd\u003eC1332295774'\u003c/td\u003e\n      \u003ctd\u003e3'\u003c/td\u003e\n      \u003ctd\u003eM'\u003c/td\u003e\n      \u003ctd\u003e28007'\u003c/td\u003e\n      \u003ctd\u003eM480139044'\u003c/td\u003e\n      \u003ctd\u003e28007'\u003c/td\u003e\n      \u003ctd\u003ees_health'\u003c/td\u003e\n      \u003ctd\u003e324.50\u003c/td\u003e\n      \u003ctd\u003e1\u003c/td\u003e\n    \u003c/tr\u003e\n    \u003ctr\u003e\n      \u003cth\u003e2\u003c/th\u003e\n      \u003ctd\u003eC1160421902'\u003c/td\u003e\n      \u003ctd\u003e3'\u003c/td\u003e\n      \u003ctd\u003eM'\u003c/td\u003e\n      \u003ctd\u003e28007'\u003c/td\u003e\n      \u003ctd\u003eM857378720'\u003c/td\u003e\n      \u003ctd\u003e28007'\u003c/td\u003e\n      \u003ctd\u003ees_hotelservices'\u003c/td\u003e\n      \u003ctd\u003e176.32\u003c/td\u003e\n      \u003ctd\u003e1\u003c/td\u003e\n    \u003c/tr\u003e\n    \u003ctr\u003e\n      \u003cth\u003e3\u003c/th\u003e\n      \u003ctd\u003eC966214713'\u003c/td\u003e\n      \u003ctd\u003e3'\u003c/td\u003e\n      \u003ctd\u003eM'\u003c/td\u003e\n      \u003ctd\u003e28007'\u003c/td\u003e\n      \u003ctd\u003eM857378720'\u003c/td\u003e\n      \u003ctd\u003e28007'\u003c/td\u003e\n      \u003ctd\u003ees_hotelservices'\u003c/td\u003e\n      \u003ctd\u003e337.41\u003c/td\u003e\n      \u003ctd\u003e1\u003c/td\u003e\n    \u003c/tr\u003e\n    \u003ctr\u003e\n      \u003cth\u003e4\u003c/th\u003e\n      \u003ctd\u003eC1450140987'\u003c/td\u003e\n      \u003ctd\u003e4'\u003c/td\u003e\n      \u003ctd\u003eF'\u003c/td\u003e\n      \u003ctd\u003e28007'\u003c/td\u003e\n      \u003ctd\u003eM1198415165'\u003c/td\u003e\n      \u003ctd\u003e28007'\u003c/td\u003e\n      \u003ctd\u003ees_wellnessandbeauty'\u003c/td\u003e\n      \u003ctd\u003e220.11\u003c/td\u003e\n      \u003ctd\u003e1\u003c/td\u003e\n    \u003c/tr\u003e\n  \u003c/tbody\u003e\n\u003c/table\u003e\n\u003c/div\u003e",
                        "text/plain": "       customer age gender zipcodeOri      merchant zipMerchant  \\\n0   C583110837'  3'     M'     28007'   M480139044'      28007'   \n1  C1332295774'  3'     M'     28007'   M480139044'      28007'   \n2  C1160421902'  3'     M'     28007'   M857378720'      28007'   \n3   C966214713'  3'     M'     28007'   M857378720'      28007'   \n4  C1450140987'  4'     F'     28007'  M1198415165'      28007'   \n\n                category  amount  fraud  \n0             es_health'   44.26      1  \n1             es_health'  324.50      1  \n2      es_hotelservices'  176.32      1  \n3      es_hotelservices'  337.41      1  \n4  es_wellnessandbeauty'  220.11      1  "
                    },
                    "execution_count": 522,
                    "metadata": {},
                    "output_type": "execute_result"
                }
            ],
            "source": [
                "#import the cvs file\n",
                "df = pd.read_csv('cardfraud.csv',engine='python')\n",
                "df.head()"
            ]
        },
        {
            "attachments": {},
            "cell_type": "markdown",
            "metadata": {},
            "source": [
                "# **Display Data info**"
            ]
        },
        {
            "cell_type": "code",
            "execution_count": 523,
            "metadata": {},
            "outputs": [
                {
                    "name": "stdout",
                    "output_type": "stream",
                    "text": "There are 144636 rows and 9 columns in this dataset. \n\nThe datatypes of each column are:\ncustomer        object\nage             object\ngender          object\nzipcodeOri      object\nmerchant        object\nzipMerchant     object\ncategory        object\namount         float64\nfraud            int64\ndtype: object \n\nAll types listed as objects are strings\n"
                }
            ],
            "source": [
                "rowct = df.shape[0]\n",
                "colct = df.shape[1]\n",
                "\n",
                "print(\"There are {} rows and {} columns in this dataset. \\n\".format(rowct,colct))\n",
                "\n",
                "print(\"The datatypes of each column are:\")\n",
                "\n",
                "print(df.dtypes, \"\\n\")\n",
                "\n",
                "print(\"All types listed as objects are strings\")"
            ]
        },
        {
            "attachments": {},
            "cell_type": "markdown",
            "metadata": {},
            "source": [
                "# **Describing the data**"
            ]
        },
        {
            "cell_type": "code",
            "execution_count": 524,
            "metadata": {},
            "outputs": [
                {
                    "data": {
                        "text/html": "\u003cdiv\u003e\n\u003cstyle scoped\u003e\n    .dataframe tbody tr th:only-of-type {\n        vertical-align: middle;\n    }\n\n    .dataframe tbody tr th {\n        vertical-align: top;\n    }\n\n    .dataframe thead th {\n        text-align: right;\n    }\n\u003c/style\u003e\n\u003ctable border=\"1\" class=\"dataframe\"\u003e\n  \u003cthead\u003e\n    \u003ctr style=\"text-align: right;\"\u003e\n      \u003cth\u003e\u003c/th\u003e\n      \u003cth\u003eamount\u003c/th\u003e\n      \u003cth\u003efraud\u003c/th\u003e\n    \u003c/tr\u003e\n  \u003c/thead\u003e\n  \u003ctbody\u003e\n    \u003ctr\u003e\n      \u003cth\u003ecount\u003c/th\u003e\n      \u003ctd\u003e144636.000000\u003c/td\u003e\n      \u003ctd\u003e144636.000000\u003c/td\u003e\n    \u003c/tr\u003e\n    \u003ctr\u003e\n      \u003cth\u003emean\u003c/th\u003e\n      \u003ctd\u003e56.746424\u003c/td\u003e\n      \u003ctd\u003e0.049780\u003c/td\u003e\n    \u003c/tr\u003e\n    \u003ctr\u003e\n      \u003cth\u003estd\u003c/th\u003e\n      \u003ctd\u003e218.119863\u003c/td\u003e\n      \u003ctd\u003e0.217491\u003c/td\u003e\n    \u003c/tr\u003e\n    \u003ctr\u003e\n      \u003cth\u003emin\u003c/th\u003e\n      \u003ctd\u003e0.000000\u003c/td\u003e\n      \u003ctd\u003e0.000000\u003c/td\u003e\n    \u003c/tr\u003e\n    \u003ctr\u003e\n      \u003cth\u003e25%\u003c/th\u003e\n      \u003ctd\u003e14.210000\u003c/td\u003e\n      \u003ctd\u003e0.000000\u003c/td\u003e\n    \u003c/tr\u003e\n    \u003ctr\u003e\n      \u003cth\u003e50%\u003c/th\u003e\n      \u003ctd\u003e27.870000\u003c/td\u003e\n      \u003ctd\u003e0.000000\u003c/td\u003e\n    \u003c/tr\u003e\n    \u003ctr\u003e\n      \u003cth\u003e75%\u003c/th\u003e\n      \u003ctd\u003e44.910000\u003c/td\u003e\n      \u003ctd\u003e0.000000\u003c/td\u003e\n    \u003c/tr\u003e\n    \u003ctr\u003e\n      \u003cth\u003emax\u003c/th\u003e\n      \u003ctd\u003e8329.960000\u003c/td\u003e\n      \u003ctd\u003e1.000000\u003c/td\u003e\n    \u003c/tr\u003e\n  \u003c/tbody\u003e\n\u003c/table\u003e\n\u003c/div\u003e",
                        "text/plain": "              amount          fraud\ncount  144636.000000  144636.000000\nmean       56.746424       0.049780\nstd       218.119863       0.217491\nmin         0.000000       0.000000\n25%        14.210000       0.000000\n50%        27.870000       0.000000\n75%        44.910000       0.000000\nmax      8329.960000       1.000000"
                    },
                    "execution_count": 524,
                    "metadata": {},
                    "output_type": "execute_result"
                }
            ],
            "source": [
                "df.describe()"
            ]
        },
        {
            "attachments": {},
            "cell_type": "markdown",
            "metadata": {},
            "source": [
                "# **Sorting**"
            ]
        },
        {
            "cell_type": "code",
            "execution_count": 525,
            "metadata": {},
            "outputs": [
                {
                    "data": {
                        "text/html": "\u003cdiv\u003e\n\u003cstyle scoped\u003e\n    .dataframe tbody tr th:only-of-type {\n        vertical-align: middle;\n    }\n\n    .dataframe tbody tr th {\n        vertical-align: top;\n    }\n\n    .dataframe thead th {\n        text-align: right;\n    }\n\u003c/style\u003e\n\u003ctable border=\"1\" class=\"dataframe\"\u003e\n  \u003cthead\u003e\n    \u003ctr style=\"text-align: right;\"\u003e\n      \u003cth\u003e\u003c/th\u003e\n      \u003cth\u003ecustomer\u003c/th\u003e\n      \u003cth\u003eage\u003c/th\u003e\n      \u003cth\u003egender\u003c/th\u003e\n      \u003cth\u003ezipcodeOri\u003c/th\u003e\n      \u003cth\u003emerchant\u003c/th\u003e\n      \u003cth\u003ezipMerchant\u003c/th\u003e\n      \u003cth\u003ecategory\u003c/th\u003e\n      \u003cth\u003eamount\u003c/th\u003e\n      \u003cth\u003efraud\u003c/th\u003e\n    \u003c/tr\u003e\n  \u003c/thead\u003e\n  \u003ctbody\u003e\n    \u003ctr\u003e\n      \u003cth\u003e111048\u003c/th\u003e\n      \u003ctd\u003eC1000148617'\u003c/td\u003e\n      \u003ctd\u003e5'\u003c/td\u003e\n      \u003ctd\u003eM'\u003c/td\u003e\n      \u003ctd\u003e28007'\u003c/td\u003e\n      \u003ctd\u003eM1741626453'\u003c/td\u003e\n      \u003ctd\u003e28007'\u003c/td\u003e\n      \u003ctd\u003ees_sportsandtoys'\u003c/td\u003e\n      \u003ctd\u003e16.69\u003c/td\u003e\n      \u003ctd\u003e0\u003c/td\u003e\n    \u003c/tr\u003e\n    \u003ctr\u003e\n      \u003cth\u003e137616\u003c/th\u003e\n      \u003ctd\u003eC1000148617'\u003c/td\u003e\n      \u003ctd\u003e5'\u003c/td\u003e\n      \u003ctd\u003eM'\u003c/td\u003e\n      \u003ctd\u003e28007'\u003c/td\u003e\n      \u003ctd\u003eM1823072687'\u003c/td\u003e\n      \u003ctd\u003e28007'\u003c/td\u003e\n      \u003ctd\u003ees_transportation'\u003c/td\u003e\n      \u003ctd\u003e55.14\u003c/td\u003e\n      \u003ctd\u003e0\u003c/td\u003e\n    \u003c/tr\u003e\n    \u003ctr\u003e\n      \u003cth\u003e130310\u003c/th\u003e\n      \u003ctd\u003eC1000148617'\u003c/td\u003e\n      \u003ctd\u003e5'\u003c/td\u003e\n      \u003ctd\u003eM'\u003c/td\u003e\n      \u003ctd\u003e28007'\u003c/td\u003e\n      \u003ctd\u003eM1823072687'\u003c/td\u003e\n      \u003ctd\u003e28007'\u003c/td\u003e\n      \u003ctd\u003ees_transportation'\u003c/td\u003e\n      \u003ctd\u003e47.42\u003c/td\u003e\n      \u003ctd\u003e0\u003c/td\u003e\n    \u003c/tr\u003e\n    \u003ctr\u003e\n      \u003cth\u003e4086\u003c/th\u003e\n      \u003ctd\u003eC1000148617'\u003c/td\u003e\n      \u003ctd\u003e5'\u003c/td\u003e\n      \u003ctd\u003eM'\u003c/td\u003e\n      \u003ctd\u003e28007'\u003c/td\u003e\n      \u003ctd\u003eM480139044'\u003c/td\u003e\n      \u003ctd\u003e28007'\u003c/td\u003e\n      \u003ctd\u003ees_health'\u003c/td\u003e\n      \u003ctd\u003e323.64\u003c/td\u003e\n      \u003ctd\u003e1\u003c/td\u003e\n    \u003c/tr\u003e\n    \u003ctr\u003e\n      \u003cth\u003e141258\u003c/th\u003e\n      \u003ctd\u003eC1000148617'\u003c/td\u003e\n      \u003ctd\u003e5'\u003c/td\u003e\n      \u003ctd\u003eM'\u003c/td\u003e\n      \u003ctd\u003e28007'\u003c/td\u003e\n      \u003ctd\u003eM85975013'\u003c/td\u003e\n      \u003ctd\u003e28007'\u003c/td\u003e\n      \u003ctd\u003ees_food'\u003c/td\u003e\n      \u003ctd\u003e14.84\u003c/td\u003e\n      \u003ctd\u003e0\u003c/td\u003e\n    \u003c/tr\u003e\n    \u003ctr\u003e\n      \u003cth\u003e...\u003c/th\u003e\n      \u003ctd\u003e...\u003c/td\u003e\n      \u003ctd\u003e...\u003c/td\u003e\n      \u003ctd\u003e...\u003c/td\u003e\n      \u003ctd\u003e...\u003c/td\u003e\n      \u003ctd\u003e...\u003c/td\u003e\n      \u003ctd\u003e...\u003c/td\u003e\n      \u003ctd\u003e...\u003c/td\u003e\n      \u003ctd\u003e...\u003c/td\u003e\n      \u003ctd\u003e...\u003c/td\u003e\n    \u003c/tr\u003e\n    \u003ctr\u003e\n      \u003cth\u003e4144\u003c/th\u003e\n      \u003ctd\u003eC999723254'\u003c/td\u003e\n      \u003ctd\u003e2'\u003c/td\u003e\n      \u003ctd\u003eM'\u003c/td\u003e\n      \u003ctd\u003e28007'\u003c/td\u003e\n      \u003ctd\u003eM480139044'\u003c/td\u003e\n      \u003ctd\u003e28007'\u003c/td\u003e\n      \u003ctd\u003ees_health'\u003c/td\u003e\n      \u003ctd\u003e268.60\u003c/td\u003e\n      \u003ctd\u003e1\u003c/td\u003e\n    \u003c/tr\u003e\n    \u003ctr\u003e\n      \u003cth\u003e143797\u003c/th\u003e\n      \u003ctd\u003eC999723254'\u003c/td\u003e\n      \u003ctd\u003e2'\u003c/td\u003e\n      \u003ctd\u003eM'\u003c/td\u003e\n      \u003ctd\u003e28007'\u003c/td\u003e\n      \u003ctd\u003eM348934600'\u003c/td\u003e\n      \u003ctd\u003e28007'\u003c/td\u003e\n      \u003ctd\u003ees_transportation'\u003c/td\u003e\n      \u003ctd\u003e19.26\u003c/td\u003e\n      \u003ctd\u003e0\u003c/td\u003e\n    \u003c/tr\u003e\n    \u003ctr\u003e\n      \u003cth\u003e35783\u003c/th\u003e\n      \u003ctd\u003eC999723254'\u003c/td\u003e\n      \u003ctd\u003e2'\u003c/td\u003e\n      \u003ctd\u003eM'\u003c/td\u003e\n      \u003ctd\u003e28007'\u003c/td\u003e\n      \u003ctd\u003eM1535107174'\u003c/td\u003e\n      \u003ctd\u003e28007'\u003c/td\u003e\n      \u003ctd\u003ees_wellnessandbeauty'\u003c/td\u003e\n      \u003ctd\u003e17.43\u003c/td\u003e\n      \u003ctd\u003e0\u003c/td\u003e\n    \u003c/tr\u003e\n    \u003ctr\u003e\n      \u003cth\u003e100990\u003c/th\u003e\n      \u003ctd\u003eC999723254'\u003c/td\u003e\n      \u003ctd\u003e2'\u003c/td\u003e\n      \u003ctd\u003eM'\u003c/td\u003e\n      \u003ctd\u003e28007'\u003c/td\u003e\n      \u003ctd\u003eM1888755466'\u003c/td\u003e\n      \u003ctd\u003e28007'\u003c/td\u003e\n      \u003ctd\u003ees_otherservices'\u003c/td\u003e\n      \u003ctd\u003e101.41\u003c/td\u003e\n      \u003ctd\u003e0\u003c/td\u003e\n    \u003c/tr\u003e\n    \u003ctr\u003e\n      \u003cth\u003e142055\u003c/th\u003e\n      \u003ctd\u003eC999723254'\u003c/td\u003e\n      \u003ctd\u003e2'\u003c/td\u003e\n      \u003ctd\u003eM'\u003c/td\u003e\n      \u003ctd\u003e28007'\u003c/td\u003e\n      \u003ctd\u003eM348934600'\u003c/td\u003e\n      \u003ctd\u003e28007'\u003c/td\u003e\n      \u003ctd\u003ees_transportation'\u003c/td\u003e\n      \u003ctd\u003e41.79\u003c/td\u003e\n      \u003ctd\u003e0\u003c/td\u003e\n    \u003c/tr\u003e\n  \u003c/tbody\u003e\n\u003c/table\u003e\n\u003cp\u003e144636 rows × 9 columns\u003c/p\u003e\n\u003c/div\u003e",
                        "text/plain": "            customer age gender zipcodeOri      merchant zipMerchant  \\\n111048  C1000148617'  5'     M'     28007'  M1741626453'      28007'   \n137616  C1000148617'  5'     M'     28007'  M1823072687'      28007'   \n130310  C1000148617'  5'     M'     28007'  M1823072687'      28007'   \n4086    C1000148617'  5'     M'     28007'   M480139044'      28007'   \n141258  C1000148617'  5'     M'     28007'    M85975013'      28007'   \n...              ...  ..    ...        ...           ...         ...   \n4144     C999723254'  2'     M'     28007'   M480139044'      28007'   \n143797   C999723254'  2'     M'     28007'   M348934600'      28007'   \n35783    C999723254'  2'     M'     28007'  M1535107174'      28007'   \n100990   C999723254'  2'     M'     28007'  M1888755466'      28007'   \n142055   C999723254'  2'     M'     28007'   M348934600'      28007'   \n\n                     category  amount  fraud  \n111048      es_sportsandtoys'   16.69      0  \n137616     es_transportation'   55.14      0  \n130310     es_transportation'   47.42      0  \n4086               es_health'  323.64      1  \n141258               es_food'   14.84      0  \n...                       ...     ...    ...  \n4144               es_health'  268.60      1  \n143797     es_transportation'   19.26      0  \n35783   es_wellnessandbeauty'   17.43      0  \n100990      es_otherservices'  101.41      0  \n142055     es_transportation'   41.79      0  \n\n[144636 rows x 9 columns]"
                    },
                    "execution_count": 525,
                    "metadata": {},
                    "output_type": "execute_result"
                }
            ],
            "source": [
                "df.sort_values(by = 'customer')"
            ]
        },
        {
            "cell_type": "code",
            "execution_count": 526,
            "metadata": {},
            "outputs": [
                {
                    "data": {
                        "text/html": "\u003cdiv\u003e\n\u003cstyle scoped\u003e\n    .dataframe tbody tr th:only-of-type {\n        vertical-align: middle;\n    }\n\n    .dataframe tbody tr th {\n        vertical-align: top;\n    }\n\n    .dataframe thead th {\n        text-align: right;\n    }\n\u003c/style\u003e\n\u003ctable border=\"1\" class=\"dataframe\"\u003e\n  \u003cthead\u003e\n    \u003ctr style=\"text-align: right;\"\u003e\n      \u003cth\u003e\u003c/th\u003e\n      \u003cth\u003ecustomer\u003c/th\u003e\n      \u003cth\u003eage\u003c/th\u003e\n      \u003cth\u003egender\u003c/th\u003e\n      \u003cth\u003ezipcodeOri\u003c/th\u003e\n      \u003cth\u003emerchant\u003c/th\u003e\n      \u003cth\u003ezipMerchant\u003c/th\u003e\n      \u003cth\u003ecategory\u003c/th\u003e\n      \u003cth\u003eamount\u003c/th\u003e\n      \u003cth\u003efraud\u003c/th\u003e\n    \u003c/tr\u003e\n  \u003c/thead\u003e\n  \u003ctbody\u003e\n    \u003ctr\u003e\n      \u003cth\u003e0\u003c/th\u003e\n      \u003ctd\u003eC583110837'\u003c/td\u003e\n      \u003ctd\u003e3'\u003c/td\u003e\n      \u003ctd\u003eM'\u003c/td\u003e\n      \u003ctd\u003e28007'\u003c/td\u003e\n      \u003ctd\u003eM480139044'\u003c/td\u003e\n      \u003ctd\u003e28007'\u003c/td\u003e\n      \u003ctd\u003ees_health'\u003c/td\u003e\n      \u003ctd\u003e44.26\u003c/td\u003e\n      \u003ctd\u003e1\u003c/td\u003e\n    \u003c/tr\u003e\n    \u003ctr\u003e\n      \u003cth\u003e4838\u003c/th\u003e\n      \u003ctd\u003eC5191822'\u003c/td\u003e\n      \u003ctd\u003e1'\u003c/td\u003e\n      \u003ctd\u003eF'\u003c/td\u003e\n      \u003ctd\u003e28007'\u003c/td\u003e\n      \u003ctd\u003eM1888755466'\u003c/td\u003e\n      \u003ctd\u003e28007'\u003c/td\u003e\n      \u003ctd\u003ees_otherservices'\u003c/td\u003e\n      \u003ctd\u003e700.41\u003c/td\u003e\n      \u003ctd\u003e1\u003c/td\u003e\n    \u003c/tr\u003e\n    \u003ctr\u003e\n      \u003cth\u003e4808\u003c/th\u003e\n      \u003ctd\u003eC2138532527'\u003c/td\u003e\n      \u003ctd\u003e5'\u003c/td\u003e\n      \u003ctd\u003eM'\u003c/td\u003e\n      \u003ctd\u003e28007'\u003c/td\u003e\n      \u003ctd\u003eM50039827'\u003c/td\u003e\n      \u003ctd\u003e28007'\u003c/td\u003e\n      \u003ctd\u003ees_health'\u003c/td\u003e\n      \u003ctd\u003e695.27\u003c/td\u003e\n      \u003ctd\u003e1\u003c/td\u003e\n    \u003c/tr\u003e\n    \u003ctr\u003e\n      \u003cth\u003e4807\u003c/th\u003e\n      \u003ctd\u003eC2005070127'\u003c/td\u003e\n      \u003ctd\u003e2'\u003c/td\u003e\n      \u003ctd\u003eF'\u003c/td\u003e\n      \u003ctd\u003e28007'\u003c/td\u003e\n      \u003ctd\u003eM480139044'\u003c/td\u003e\n      \u003ctd\u003e28007'\u003c/td\u003e\n      \u003ctd\u003ees_health'\u003c/td\u003e\n      \u003ctd\u003e787.14\u003c/td\u003e\n      \u003ctd\u003e1\u003c/td\u003e\n    \u003c/tr\u003e\n    \u003ctr\u003e\n      \u003cth\u003e4806\u003c/th\u003e\n      \u003ctd\u003eC1051985937'\u003c/td\u003e\n      \u003ctd\u003e2'\u003c/td\u003e\n      \u003ctd\u003eF'\u003c/td\u003e\n      \u003ctd\u003e28007'\u003c/td\u003e\n      \u003ctd\u003eM480139044'\u003c/td\u003e\n      \u003ctd\u003e28007'\u003c/td\u003e\n      \u003ctd\u003ees_health'\u003c/td\u003e\n      \u003ctd\u003e631.65\u003c/td\u003e\n      \u003ctd\u003e1\u003c/td\u003e\n    \u003c/tr\u003e\n    \u003ctr\u003e\n      \u003cth\u003e...\u003c/th\u003e\n      \u003ctd\u003e...\u003c/td\u003e\n      \u003ctd\u003e...\u003c/td\u003e\n      \u003ctd\u003e...\u003c/td\u003e\n      \u003ctd\u003e...\u003c/td\u003e\n      \u003ctd\u003e...\u003c/td\u003e\n      \u003ctd\u003e...\u003c/td\u003e\n      \u003ctd\u003e...\u003c/td\u003e\n      \u003ctd\u003e...\u003c/td\u003e\n      \u003ctd\u003e...\u003c/td\u003e\n    \u003c/tr\u003e\n    \u003ctr\u003e\n      \u003cth\u003e53005\u003c/th\u003e\n      \u003ctd\u003eC357634845'\u003c/td\u003e\n      \u003ctd\u003e3'\u003c/td\u003e\n      \u003ctd\u003eM'\u003c/td\u003e\n      \u003ctd\u003e28007'\u003c/td\u003e\n      \u003ctd\u003eM1823072687'\u003c/td\u003e\n      \u003ctd\u003e28007'\u003c/td\u003e\n      \u003ctd\u003ees_transportation'\u003c/td\u003e\n      \u003ctd\u003e3.32\u003c/td\u003e\n      \u003ctd\u003e0\u003c/td\u003e\n    \u003c/tr\u003e\n    \u003ctr\u003e\n      \u003cth\u003e53004\u003c/th\u003e\n      \u003ctd\u003eC302774270'\u003c/td\u003e\n      \u003ctd\u003e2'\u003c/td\u003e\n      \u003ctd\u003eF'\u003c/td\u003e\n      \u003ctd\u003e28007'\u003c/td\u003e\n      \u003ctd\u003eM209847108'\u003c/td\u003e\n      \u003ctd\u003e28007'\u003c/td\u003e\n      \u003ctd\u003ees_wellnessandbeauty'\u003c/td\u003e\n      \u003ctd\u003e111.89\u003c/td\u003e\n      \u003ctd\u003e0\u003c/td\u003e\n    \u003c/tr\u003e\n    \u003ctr\u003e\n      \u003cth\u003e53003\u003c/th\u003e\n      \u003ctd\u003eC868061193'\u003c/td\u003e\n      \u003ctd\u003e3'\u003c/td\u003e\n      \u003ctd\u003eF'\u003c/td\u003e\n      \u003ctd\u003e28007'\u003c/td\u003e\n      \u003ctd\u003eM1600850729'\u003c/td\u003e\n      \u003ctd\u003e28007'\u003c/td\u003e\n      \u003ctd\u003ees_fashion'\u003c/td\u003e\n      \u003ctd\u003e18.81\u003c/td\u003e\n      \u003ctd\u003e0\u003c/td\u003e\n    \u003c/tr\u003e\n    \u003ctr\u003e\n      \u003cth\u003e53002\u003c/th\u003e\n      \u003ctd\u003eC2005671734'\u003c/td\u003e\n      \u003ctd\u003e2'\u003c/td\u003e\n      \u003ctd\u003eF'\u003c/td\u003e\n      \u003ctd\u003e28007'\u003c/td\u003e\n      \u003ctd\u003eM85975013'\u003c/td\u003e\n      \u003ctd\u003e28007'\u003c/td\u003e\n      \u003ctd\u003ees_food'\u003c/td\u003e\n      \u003ctd\u003e24.23\u003c/td\u003e\n      \u003ctd\u003e0\u003c/td\u003e\n    \u003c/tr\u003e\n    \u003ctr\u003e\n      \u003cth\u003e144635\u003c/th\u003e\n      \u003ctd\u003eC326815335'\u003c/td\u003e\n      \u003ctd\u003e1'\u003c/td\u003e\n      \u003ctd\u003eF'\u003c/td\u003e\n      \u003ctd\u003e28007'\u003c/td\u003e\n      \u003ctd\u003eM348934600'\u003c/td\u003e\n      \u003ctd\u003e28007'\u003c/td\u003e\n      \u003ctd\u003ees_transportation'\u003c/td\u003e\n      \u003ctd\u003e26.05\u003c/td\u003e\n      \u003ctd\u003e0\u003c/td\u003e\n    \u003c/tr\u003e\n  \u003c/tbody\u003e\n\u003c/table\u003e\n\u003cp\u003e144636 rows × 9 columns\u003c/p\u003e\n\u003c/div\u003e",
                        "text/plain": "            customer age gender zipcodeOri      merchant zipMerchant  \\\n0        C583110837'  3'     M'     28007'   M480139044'      28007'   \n4838       C5191822'  1'     F'     28007'  M1888755466'      28007'   \n4808    C2138532527'  5'     M'     28007'    M50039827'      28007'   \n4807    C2005070127'  2'     F'     28007'   M480139044'      28007'   \n4806    C1051985937'  2'     F'     28007'   M480139044'      28007'   \n...              ...  ..    ...        ...           ...         ...   \n53005    C357634845'  3'     M'     28007'  M1823072687'      28007'   \n53004    C302774270'  2'     F'     28007'   M209847108'      28007'   \n53003    C868061193'  3'     F'     28007'  M1600850729'      28007'   \n53002   C2005671734'  2'     F'     28007'    M85975013'      28007'   \n144635   C326815335'  1'     F'     28007'   M348934600'      28007'   \n\n                     category  amount  fraud  \n0                  es_health'   44.26      1  \n4838        es_otherservices'  700.41      1  \n4808               es_health'  695.27      1  \n4807               es_health'  787.14      1  \n4806               es_health'  631.65      1  \n...                       ...     ...    ...  \n53005      es_transportation'    3.32      0  \n53004   es_wellnessandbeauty'  111.89      0  \n53003             es_fashion'   18.81      0  \n53002                es_food'   24.23      0  \n144635     es_transportation'   26.05      0  \n\n[144636 rows x 9 columns]"
                    },
                    "execution_count": 526,
                    "metadata": {},
                    "output_type": "execute_result"
                }
            ],
            "source": [
                "df.sort_values(by = 'fraud', ascending = False)"
            ]
        },
        {
            "attachments": {},
            "cell_type": "markdown",
            "metadata": {},
            "source": [
                "# **View single or more a few columns**"
            ]
        },
        {
            "cell_type": "code",
            "execution_count": 527,
            "metadata": {},
            "outputs": [
                {
                    "data": {
                        "text/html": "\u003cdiv\u003e\n\u003cstyle scoped\u003e\n    .dataframe tbody tr th:only-of-type {\n        vertical-align: middle;\n    }\n\n    .dataframe tbody tr th {\n        vertical-align: top;\n    }\n\n    .dataframe thead th {\n        text-align: right;\n    }\n\u003c/style\u003e\n\u003ctable border=\"1\" class=\"dataframe\"\u003e\n  \u003cthead\u003e\n    \u003ctr style=\"text-align: right;\"\u003e\n      \u003cth\u003e\u003c/th\u003e\n      \u003cth\u003egender\u003c/th\u003e\n      \u003cth\u003efraud\u003c/th\u003e\n    \u003c/tr\u003e\n  \u003c/thead\u003e\n  \u003ctbody\u003e\n    \u003ctr\u003e\n      \u003cth\u003e0\u003c/th\u003e\n      \u003ctd\u003eM'\u003c/td\u003e\n      \u003ctd\u003e1\u003c/td\u003e\n    \u003c/tr\u003e\n    \u003ctr\u003e\n      \u003cth\u003e1\u003c/th\u003e\n      \u003ctd\u003eM'\u003c/td\u003e\n      \u003ctd\u003e1\u003c/td\u003e\n    \u003c/tr\u003e\n    \u003ctr\u003e\n      \u003cth\u003e2\u003c/th\u003e\n      \u003ctd\u003eM'\u003c/td\u003e\n      \u003ctd\u003e1\u003c/td\u003e\n    \u003c/tr\u003e\n    \u003ctr\u003e\n      \u003cth\u003e3\u003c/th\u003e\n      \u003ctd\u003eM'\u003c/td\u003e\n      \u003ctd\u003e1\u003c/td\u003e\n    \u003c/tr\u003e\n    \u003ctr\u003e\n      \u003cth\u003e4\u003c/th\u003e\n      \u003ctd\u003eF'\u003c/td\u003e\n      \u003ctd\u003e1\u003c/td\u003e\n    \u003c/tr\u003e\n    \u003ctr\u003e\n      \u003cth\u003e...\u003c/th\u003e\n      \u003ctd\u003e...\u003c/td\u003e\n      \u003ctd\u003e...\u003c/td\u003e\n    \u003c/tr\u003e\n    \u003ctr\u003e\n      \u003cth\u003e144631\u003c/th\u003e\n      \u003ctd\u003eF'\u003c/td\u003e\n      \u003ctd\u003e0\u003c/td\u003e\n    \u003c/tr\u003e\n    \u003ctr\u003e\n      \u003cth\u003e144632\u003c/th\u003e\n      \u003ctd\u003eF'\u003c/td\u003e\n      \u003ctd\u003e0\u003c/td\u003e\n    \u003c/tr\u003e\n    \u003ctr\u003e\n      \u003cth\u003e144633\u003c/th\u003e\n      \u003ctd\u003eF'\u003c/td\u003e\n      \u003ctd\u003e0\u003c/td\u003e\n    \u003c/tr\u003e\n    \u003ctr\u003e\n      \u003cth\u003e144634\u003c/th\u003e\n      \u003ctd\u003eM'\u003c/td\u003e\n      \u003ctd\u003e0\u003c/td\u003e\n    \u003c/tr\u003e\n    \u003ctr\u003e\n      \u003cth\u003e144635\u003c/th\u003e\n      \u003ctd\u003eF'\u003c/td\u003e\n      \u003ctd\u003e0\u003c/td\u003e\n    \u003c/tr\u003e\n  \u003c/tbody\u003e\n\u003c/table\u003e\n\u003cp\u003e144636 rows × 2 columns\u003c/p\u003e\n\u003c/div\u003e",
                        "text/plain": "       gender  fraud\n0          M'      1\n1          M'      1\n2          M'      1\n3          M'      1\n4          F'      1\n...       ...    ...\n144631     F'      0\n144632     F'      0\n144633     F'      0\n144634     M'      0\n144635     F'      0\n\n[144636 rows x 2 columns]"
                    },
                    "execution_count": 527,
                    "metadata": {},
                    "output_type": "execute_result"
                }
            ],
            "source": [
                "df[['gender', 'fraud']]"
            ]
        },
        {
            "attachments": {},
            "cell_type": "markdown",
            "metadata": {},
            "source": [
                "# **Grouping**"
            ]
        },
        {
            "cell_type": "code",
            "execution_count": 528,
            "metadata": {},
            "outputs": [
                {
                    "data": {
                        "text/plain": "amount\n0.00       12\n0.01       20\n0.02       19\n0.03       34\n0.04       23\n           ..\n7403.44     1\n7432.48     1\n7635.41     1\n7665.56     1\n8329.96     1\nName: customer, Length: 17716, dtype: int64"
                    },
                    "execution_count": 528,
                    "metadata": {},
                    "output_type": "execute_result"
                }
            ],
            "source": [
                "df.groupby('amount')['customer'].count()"
            ]
        },
        {
            "cell_type": "code",
            "execution_count": 529,
            "metadata": {},
            "outputs": [
                {
                    "data": {
                        "text/plain": "category\nes_barsandrestaurants'      2499\nes_contents'                 189\nes_fashion'                 1653\nes_food'                    3917\nes_health'                  4397\nes_home'                     758\nes_hotelservices'            872\nes_hyper'                   2411\nes_leisure'                  485\nes_otherservices'            569\nes_sportsandtoys'           2735\nes_tech'                     684\nes_transportation'        118418\nes_travel'                   636\nes_wellnessandbeauty'       4413\nName: customer, dtype: int64"
                    },
                    "execution_count": 529,
                    "metadata": {},
                    "output_type": "execute_result"
                }
            ],
            "source": [
                "df.groupby('category')['customer'].count()"
            ]
        },
        {
            "attachments": {},
            "cell_type": "markdown",
            "metadata": {},
            "source": [
                "# **Data visualization**"
            ]
        },
        {
            "cell_type": "code",
            "execution_count": 530,
            "metadata": {},
            "outputs": [],
            "source": [
                "# Import the libraries we'll use to create graphs\n",
                "from matplotlib import pyplot as plt\n",
                "import numpy as np\n",
                "\n",
                "# Makes sure the graphs show in this window, not a new one\n",
                "%matplotlib inline "
            ]
        },
        {
            "cell_type": "code",
            "execution_count": 531,
            "metadata": {},
            "outputs": [
                {
                    "data": {
                        "text/plain": "(array([137436.,   7200.]),\n array([0. , 0.5, 1. ]),\n \u003cBarContainer object of 2 artists\u003e)"
                    },
                    "execution_count": 531,
                    "metadata": {},
                    "output_type": "execute_result"
                },
                {
                    "data": {
                        "image/png": "[encoded data removed]",
                        "text/plain": "\u003cFigure size 432x288 with 1 Axes\u003e"
                    },
                    "metadata": {
                        "needs_background": "light"
                    },
                    "output_type": "display_data"
                }
            ],
            "source": [
                "plt.hist(df.fraud, bins = 2)\n",
                ""
            ]
        },
        {
            "cell_type": "code",
            "execution_count": 532,
            "metadata": {},
            "outputs": [
                {
                    "data": {
                        "text/plain": "(-10.0, 800.0)"
                    },
                    "execution_count": 532,
                    "metadata": {},
                    "output_type": "execute_result"
                },
                {
                    "data": {
                        "image/png": "[encoded data removed]",
                        "text/plain": "\u003cFigure size 432x288 with 1 Axes\u003e"
                    },
                    "metadata": {
                        "needs_background": "light"
                    },
                    "output_type": "display_data"
                }
            ],
            "source": [
                "plt.hist(df.amount, bins = 1000, ec = \"black\", align = 'mid')\n",
                "plt.xlim(-10 , 800)"
            ]
        },
        {
            "attachments": {},
            "cell_type": "markdown",
            "metadata": {},
            "source": [
                "# **Manipulating Data**"
            ]
        },
        {
            "cell_type": "code",
            "execution_count": 533,
            "metadata": {},
            "outputs": [
                {
                    "data": {
                        "text/html": "\u003cdiv\u003e\n\u003cstyle scoped\u003e\n    .dataframe tbody tr th:only-of-type {\n        vertical-align: middle;\n    }\n\n    .dataframe tbody tr th {\n        vertical-align: top;\n    }\n\n    .dataframe thead th {\n        text-align: right;\n    }\n\u003c/style\u003e\n\u003ctable border=\"1\" class=\"dataframe\"\u003e\n  \u003cthead\u003e\n    \u003ctr style=\"text-align: right;\"\u003e\n      \u003cth\u003e\u003c/th\u003e\n      \u003cth\u003eamount\u003c/th\u003e\n      \u003cth\u003ePrice Ranges\u003c/th\u003e\n    \u003c/tr\u003e\n  \u003c/thead\u003e\n  \u003ctbody\u003e\n    \u003ctr\u003e\n      \u003cth\u003e0\u003c/th\u003e\n      \u003ctd\u003e44.26\u003c/td\u003e\n      \u003ctd\u003enormal\u003c/td\u003e\n    \u003c/tr\u003e\n    \u003ctr\u003e\n      \u003cth\u003e1\u003c/th\u003e\n      \u003ctd\u003e324.50\u003c/td\u003e\n      \u003ctd\u003eexpensive\u003c/td\u003e\n    \u003c/tr\u003e\n    \u003ctr\u003e\n      \u003cth\u003e2\u003c/th\u003e\n      \u003ctd\u003e176.32\u003c/td\u003e\n      \u003ctd\u003eexpensive\u003c/td\u003e\n    \u003c/tr\u003e\n    \u003ctr\u003e\n      \u003cth\u003e3\u003c/th\u003e\n      \u003ctd\u003e337.41\u003c/td\u003e\n      \u003ctd\u003eexpensive\u003c/td\u003e\n    \u003c/tr\u003e\n    \u003ctr\u003e\n      \u003cth\u003e4\u003c/th\u003e\n      \u003ctd\u003e220.11\u003c/td\u003e\n      \u003ctd\u003eexpensive\u003c/td\u003e\n    \u003c/tr\u003e\n  \u003c/tbody\u003e\n\u003c/table\u003e\n\u003c/div\u003e",
                        "text/plain": "   amount Price Ranges\n0   44.26       normal\n1  324.50    expensive\n2  176.32    expensive\n3  337.41    expensive\n4  220.11    expensive"
                    },
                    "execution_count": 533,
                    "metadata": {},
                    "output_type": "execute_result"
                }
            ],
            "source": [
                "def pricey(row):\n",
                "    if row['amount'] \u003c= 50:\n",
                "        return 'normal'\n",
                "    elif row['amount'] \u003e 50 and row['amount'] \u003c= 100:\n",
                "        return 'mid'\n",
                "    else:\n",
                "        return 'expensive'\n",
                "\n",
                "df[\"Price Ranges\"] = df.apply(pricey, axis = 1)\n",
                "\n",
                "df[['amount', 'Price Ranges']].head()"
            ]
        },
        {
            "attachments": {},
            "cell_type": "markdown",
            "metadata": {},
            "source": [
                "# **Groupby**"
            ]
        },
        {
            "cell_type": "code",
            "execution_count": 534,
            "metadata": {},
            "outputs": [
                {
                    "data": {
                        "text/plain": "amount   gender\n0.00     F'         7\n         M'         5\n0.01     F'         7\n         M'        13\n0.02     F'         7\n                   ..\n7403.44  M'         1\n7432.48  F'         1\n7635.41  F'         1\n7665.56  F'         1\n8329.96  M'         1\nName: customer, Length: 26123, dtype: int64"
                    },
                    "execution_count": 534,
                    "metadata": {},
                    "output_type": "execute_result"
                }
            ],
            "source": [
                "df.groupby(['amount', 'gender'])['customer'].count()"
            ]
        },
        {
            "cell_type": "code",
            "execution_count": 535,
            "metadata": {},
            "outputs": [
                {
                    "data": {
                        "text/plain": "zipcodeOri\n28007'    144636\nName: customer, dtype: int64"
                    },
                    "execution_count": 535,
                    "metadata": {},
                    "output_type": "execute_result"
                }
            ],
            "source": [
                "df.groupby(['zipcodeOri'])['customer'].count()"
            ]
        },
        {
            "attachments": {},
            "cell_type": "markdown",
            "metadata": {},
            "source": [
                "# **checking for Missing data**"
            ]
        },
        {
            "cell_type": "code",
            "execution_count": 536,
            "metadata": {},
            "outputs": [
                {
                    "data": {
                        "text/plain": "Series([], dtype: bool)"
                    },
                    "execution_count": 536,
                    "metadata": {},
                    "output_type": "execute_result"
                }
            ],
            "source": [
                "df.isna().any()[lambda x: x]"
            ]
        },
        {
            "attachments": {},
            "cell_type": "markdown",
            "metadata": {},
            "source": [
                " there is only one zipcode so it is not needed for train test\n",
                "  \n",
                " - compare all categories to fraud with pie chart.\n",
                "\n",
                "validate data incase of overfitting\n",
                ""
            ]
        },
        {
            "attachments": {},
            "cell_type": "markdown",
            "metadata": {},
            "source": [
                "# **Convert Gender to Number**"
            ]
        },
        {
            "cell_type": "code",
            "execution_count": 537,
            "metadata": {},
            "outputs": [
                {
                    "name": "stdout",
                    "output_type": "stream",
                    "text": "New Gender Labeling E = 1, F = 2, M = 3, U = 4\n"
                },
                {
                    "data": {
                        "text/html": "\u003cdiv\u003e\n\u003cstyle scoped\u003e\n    .dataframe tbody tr th:only-of-type {\n        vertical-align: middle;\n    }\n\n    .dataframe tbody tr th {\n        vertical-align: top;\n    }\n\n    .dataframe thead th {\n        text-align: right;\n    }\n\u003c/style\u003e\n\u003ctable border=\"1\" class=\"dataframe\"\u003e\n  \u003cthead\u003e\n    \u003ctr style=\"text-align: right;\"\u003e\n      \u003cth\u003e\u003c/th\u003e\n      \u003cth\u003egender\u003c/th\u003e\n      \u003cth\u003eGender by Number\u003c/th\u003e\n    \u003c/tr\u003e\n  \u003c/thead\u003e\n  \u003ctbody\u003e\n    \u003ctr\u003e\n      \u003cth\u003e0\u003c/th\u003e\n      \u003ctd\u003eM'\u003c/td\u003e\n      \u003ctd\u003e3\u003c/td\u003e\n    \u003c/tr\u003e\n    \u003ctr\u003e\n      \u003cth\u003e1\u003c/th\u003e\n      \u003ctd\u003eM'\u003c/td\u003e\n      \u003ctd\u003e3\u003c/td\u003e\n    \u003c/tr\u003e\n    \u003ctr\u003e\n      \u003cth\u003e2\u003c/th\u003e\n      \u003ctd\u003eM'\u003c/td\u003e\n      \u003ctd\u003e3\u003c/td\u003e\n    \u003c/tr\u003e\n    \u003ctr\u003e\n      \u003cth\u003e3\u003c/th\u003e\n      \u003ctd\u003eM'\u003c/td\u003e\n      \u003ctd\u003e3\u003c/td\u003e\n    \u003c/tr\u003e\n    \u003ctr\u003e\n      \u003cth\u003e4\u003c/th\u003e\n      \u003ctd\u003eF'\u003c/td\u003e\n      \u003ctd\u003e2\u003c/td\u003e\n    \u003c/tr\u003e\n  \u003c/tbody\u003e\n\u003c/table\u003e\n\u003c/div\u003e",
                        "text/plain": "  gender  Gender by Number\n0     M'                 3\n1     M'                 3\n2     M'                 3\n3     M'                 3\n4     F'                 2"
                    },
                    "execution_count": 537,
                    "metadata": {},
                    "output_type": "execute_result"
                }
            ],
            "source": [
                "def genders(row):\n",
                "    if row['gender'] == \"E'\":\n",
                "        return 1\n",
                "    elif row['gender'] == \"F'\":\n",
                "        return 2\n",
                "    elif row['gender'] == \"M'\":\n",
                "        return 3\n",
                "    else:\n",
                "        return 4\n",
                "\n",
                "df[\"Gender by Number\"] = df.apply(genders, axis = 1)\n",
                "\n",
                "print(\"New Gender Labeling E = 1, F = 2, M = 3, U = 4\")\n",
                "\n",
                "df[['gender', 'Gender by Number']].head()"
            ]
        },
        {
            "attachments": {},
            "cell_type": "markdown",
            "metadata": {},
            "source": [
                "# **Convert Price Ranges to numbers**"
            ]
        },
        {
            "cell_type": "code",
            "execution_count": 538,
            "metadata": {},
            "outputs": [
                {
                    "name": "stdout",
                    "output_type": "stream",
                    "text": "New Price Ranges Labeling normal = 1, mid = 2, expensive = 3, U = 4\n"
                },
                {
                    "data": {
                        "text/html": "\u003cdiv\u003e\n\u003cstyle scoped\u003e\n    .dataframe tbody tr th:only-of-type {\n        vertical-align: middle;\n    }\n\n    .dataframe tbody tr th {\n        vertical-align: top;\n    }\n\n    .dataframe thead th {\n        text-align: right;\n    }\n\u003c/style\u003e\n\u003ctable border=\"1\" class=\"dataframe\"\u003e\n  \u003cthead\u003e\n    \u003ctr style=\"text-align: right;\"\u003e\n      \u003cth\u003e\u003c/th\u003e\n      \u003cth\u003ePrice Ranges\u003c/th\u003e\n      \u003cth\u003ePrice Ranges by Number\u003c/th\u003e\n    \u003c/tr\u003e\n  \u003c/thead\u003e\n  \u003ctbody\u003e\n    \u003ctr\u003e\n      \u003cth\u003e0\u003c/th\u003e\n      \u003ctd\u003enormal\u003c/td\u003e\n      \u003ctd\u003e1\u003c/td\u003e\n    \u003c/tr\u003e\n    \u003ctr\u003e\n      \u003cth\u003e1\u003c/th\u003e\n      \u003ctd\u003eexpensive\u003c/td\u003e\n      \u003ctd\u003e3\u003c/td\u003e\n    \u003c/tr\u003e\n    \u003ctr\u003e\n      \u003cth\u003e2\u003c/th\u003e\n      \u003ctd\u003eexpensive\u003c/td\u003e\n      \u003ctd\u003e3\u003c/td\u003e\n    \u003c/tr\u003e\n    \u003ctr\u003e\n      \u003cth\u003e3\u003c/th\u003e\n      \u003ctd\u003eexpensive\u003c/td\u003e\n      \u003ctd\u003e3\u003c/td\u003e\n    \u003c/tr\u003e\n    \u003ctr\u003e\n      \u003cth\u003e4\u003c/th\u003e\n      \u003ctd\u003eexpensive\u003c/td\u003e\n      \u003ctd\u003e3\u003c/td\u003e\n    \u003c/tr\u003e\n  \u003c/tbody\u003e\n\u003c/table\u003e\n\u003c/div\u003e",
                        "text/plain": "  Price Ranges  Price Ranges by Number\n0       normal                       1\n1    expensive                       3\n2    expensive                       3\n3    expensive                       3\n4    expensive                       3"
                    },
                    "execution_count": 538,
                    "metadata": {},
                    "output_type": "execute_result"
                }
            ],
            "source": [
                "def priceRan(row):\n",
                "    if row['Price Ranges'] == \"normal\":\n",
                "        return 1\n",
                "    elif row['Price Ranges'] == \"mid\":\n",
                "        return 2\n",
                "    elif row['Price Ranges'] == \"expensive\":\n",
                "        return 3\n",
                "\n",
                "df[\"Price Ranges by Number\"] = df.apply(priceRan, axis = 1)\n",
                "\n",
                "print(\"New Price Ranges Labeling normal = 1, mid = 2, expensive = 3, U = 4\")\n",
                "\n",
                "df[['Price Ranges', 'Price Ranges by Number']].head()"
            ]
        },
        {
            "cell_type": "code",
            "execution_count": 539,
            "metadata": {},
            "outputs": [
                {
                    "data": {
                        "text/plain": "category\nes_barsandrestaurants'      2499\nes_contents'                 189\nes_fashion'                 1653\nes_food'                    3917\nes_health'                  4397\nes_home'                     758\nes_hotelservices'            872\nes_hyper'                   2411\nes_leisure'                  485\nes_otherservices'            569\nes_sportsandtoys'           2735\nes_tech'                     684\nes_transportation'        118418\nes_travel'                   636\nes_wellnessandbeauty'       4413\nName: customer, dtype: int64"
                    },
                    "execution_count": 539,
                    "metadata": {},
                    "output_type": "execute_result"
                }
            ],
            "source": [
                "df.groupby('category')['customer'].count()"
            ]
        },
        {
            "attachments": {},
            "cell_type": "markdown",
            "metadata": {},
            "source": [
                "# **Convert Category to numbers**"
            ]
        },
        {
            "cell_type": "code",
            "execution_count": 540,
            "metadata": {},
            "outputs": [
                {
                    "data": {
                        "text/html": "\u003cdiv\u003e\n\u003cstyle scoped\u003e\n    .dataframe tbody tr th:only-of-type {\n        vertical-align: middle;\n    }\n\n    .dataframe tbody tr th {\n        vertical-align: top;\n    }\n\n    .dataframe thead th {\n        text-align: right;\n    }\n\u003c/style\u003e\n\u003ctable border=\"1\" class=\"dataframe\"\u003e\n  \u003cthead\u003e\n    \u003ctr style=\"text-align: right;\"\u003e\n      \u003cth\u003e\u003c/th\u003e\n      \u003cth\u003ecategory\u003c/th\u003e\n      \u003cth\u003eCategory by Number\u003c/th\u003e\n    \u003c/tr\u003e\n  \u003c/thead\u003e\n  \u003ctbody\u003e\n    \u003ctr\u003e\n      \u003cth\u003e0\u003c/th\u003e\n      \u003ctd\u003ees_health'\u003c/td\u003e\n      \u003ctd\u003e6.0\u003c/td\u003e\n    \u003c/tr\u003e\n    \u003ctr\u003e\n      \u003cth\u003e1\u003c/th\u003e\n      \u003ctd\u003ees_health'\u003c/td\u003e\n      \u003ctd\u003e6.0\u003c/td\u003e\n    \u003c/tr\u003e\n    \u003ctr\u003e\n      \u003cth\u003e2\u003c/th\u003e\n      \u003ctd\u003ees_hotelservices'\u003c/td\u003e\n      \u003ctd\u003e8.0\u003c/td\u003e\n    \u003c/tr\u003e\n    \u003ctr\u003e\n      \u003cth\u003e3\u003c/th\u003e\n      \u003ctd\u003ees_hotelservices'\u003c/td\u003e\n      \u003ctd\u003e8.0\u003c/td\u003e\n    \u003c/tr\u003e\n    \u003ctr\u003e\n      \u003cth\u003e4\u003c/th\u003e\n      \u003ctd\u003ees_wellnessandbeauty'\u003c/td\u003e\n      \u003ctd\u003e16.0\u003c/td\u003e\n    \u003c/tr\u003e\n  \u003c/tbody\u003e\n\u003c/table\u003e\n\u003c/div\u003e",
                        "text/plain": "                category  Category by Number\n0             es_health'                 6.0\n1             es_health'                 6.0\n2      es_hotelservices'                 8.0\n3      es_hotelservices'                 8.0\n4  es_wellnessandbeauty'                16.0"
                    },
                    "execution_count": 540,
                    "metadata": {},
                    "output_type": "execute_result"
                }
            ],
            "source": [
                "def categors(row):\n",
                "    if row['category'] == \"es_auto'\":\n",
                "        return 1\n",
                "    elif row['category'] == \"es_barsandrestaurants'\":\n",
                "        return 2\n",
                "    elif row['category'] == \"es_contents'\":\n",
                "        return 3\n",
                "    elif row['category'] == \"es_fashion'\":\n",
                "        return 4\n",
                "    elif row['category'] == \"es_food'\":\n",
                "        return 5\n",
                "    elif row['category'] == \"es_health'\":\n",
                "        return 6\n",
                "    elif row['category'] == \"es_home'\":\n",
                "        return 7\n",
                "    elif row['category'] == \"es_hotelservices'\":\n",
                "        return 8\n",
                "    elif row['category'] == \"es_hyper'\":\n",
                "        return 9\n",
                "    elif row['category'] == \"es_leisure'\":\n",
                "        return 10\n",
                "    elif row['category'] == \"es_otherservices'\":\n",
                "        return 11\n",
                "    elif row['category'] == \"es_sportsandtoys'\":\n",
                "        return 12\n",
                "    elif row['category'] == \"es_tech'\":\n",
                "        return 13\n",
                "    elif row['category'] == \"es_transportation'\":\n",
                "        return 14\n",
                "    elif row['category'] == \"es_travel\":\n",
                "        return 15\n",
                "    elif row['category'] == \"es_wellnessandbeauty'\":\n",
                "        return 16\n",
                "\n",
                "df[\"Category by Number\"] = df.apply(categors, axis = 1)\n",
                "\n",
                "df[['category', 'Category by Number']].head()"
            ]
        },
        {
            "attachments": {},
            "cell_type": "markdown",
            "metadata": {},
            "source": [
                "# **Change age from characters to digits**"
            ]
        },
        {
            "cell_type": "code",
            "execution_count": 541,
            "metadata": {},
            "outputs": [
                {
                    "data": {
                        "text/plain": "0    3\n1    3\n2    3\n3    3\n4    4\nName: age, dtype: int64"
                    },
                    "execution_count": 541,
                    "metadata": {},
                    "output_type": "execute_result"
                }
            ],
            "source": [
                "def agist(row):\n",
                "    if row['age'] == \"0'\":\n",
                "        return 0\n",
                "    elif row['age'] == \"1'\":\n",
                "        return 1\n",
                "    elif row['age'] == \"2'\":\n",
                "        return 2\n",
                "    elif row['age'] == \"3'\":\n",
                "        return 3\n",
                "    elif row['age'] == \"4'\":\n",
                "        return 4\n",
                "    elif row['age'] == \"5'\":\n",
                "        return 5\n",
                "    elif row['age'] == \"6'\":\n",
                "        return 6\n",
                "    else:\n",
                "        return 7\n",
                "\n",
                "df[\"age\"] = df.apply(agist, axis = 1)\n",
                "\n",
                "df['age'].head()"
            ]
        },
        {
            "attachments": {},
            "cell_type": "markdown",
            "metadata": {},
            "source": [
                "# **Show data again.**"
            ]
        },
        {
            "cell_type": "code",
            "execution_count": 542,
            "metadata": {},
            "outputs": [
                {
                    "data": {
                        "text/html": "\u003cdiv\u003e\n\u003cstyle scoped\u003e\n    .dataframe tbody tr th:only-of-type {\n        vertical-align: middle;\n    }\n\n    .dataframe tbody tr th {\n        vertical-align: top;\n    }\n\n    .dataframe thead th {\n        text-align: right;\n    }\n\u003c/style\u003e\n\u003ctable border=\"1\" class=\"dataframe\"\u003e\n  \u003cthead\u003e\n    \u003ctr style=\"text-align: right;\"\u003e\n      \u003cth\u003e\u003c/th\u003e\n      \u003cth\u003ecustomer\u003c/th\u003e\n      \u003cth\u003eage\u003c/th\u003e\n      \u003cth\u003egender\u003c/th\u003e\n      \u003cth\u003ezipcodeOri\u003c/th\u003e\n      \u003cth\u003emerchant\u003c/th\u003e\n      \u003cth\u003ezipMerchant\u003c/th\u003e\n      \u003cth\u003ecategory\u003c/th\u003e\n      \u003cth\u003eamount\u003c/th\u003e\n      \u003cth\u003efraud\u003c/th\u003e\n      \u003cth\u003ePrice Ranges\u003c/th\u003e\n      \u003cth\u003eGender by Number\u003c/th\u003e\n      \u003cth\u003ePrice Ranges by Number\u003c/th\u003e\n      \u003cth\u003eCategory by Number\u003c/th\u003e\n    \u003c/tr\u003e\n  \u003c/thead\u003e\n  \u003ctbody\u003e\n    \u003ctr\u003e\n      \u003cth\u003e0\u003c/th\u003e\n      \u003ctd\u003eC583110837'\u003c/td\u003e\n      \u003ctd\u003e3\u003c/td\u003e\n      \u003ctd\u003eM'\u003c/td\u003e\n      \u003ctd\u003e28007'\u003c/td\u003e\n      \u003ctd\u003eM480139044'\u003c/td\u003e\n      \u003ctd\u003e28007'\u003c/td\u003e\n      \u003ctd\u003ees_health'\u003c/td\u003e\n      \u003ctd\u003e44.26\u003c/td\u003e\n      \u003ctd\u003e1\u003c/td\u003e\n      \u003ctd\u003enormal\u003c/td\u003e\n      \u003ctd\u003e3\u003c/td\u003e\n      \u003ctd\u003e1\u003c/td\u003e\n      \u003ctd\u003e6.0\u003c/td\u003e\n    \u003c/tr\u003e\n    \u003ctr\u003e\n      \u003cth\u003e1\u003c/th\u003e\n      \u003ctd\u003eC1332295774'\u003c/td\u003e\n      \u003ctd\u003e3\u003c/td\u003e\n      \u003ctd\u003eM'\u003c/td\u003e\n      \u003ctd\u003e28007'\u003c/td\u003e\n      \u003ctd\u003eM480139044'\u003c/td\u003e\n      \u003ctd\u003e28007'\u003c/td\u003e\n      \u003ctd\u003ees_health'\u003c/td\u003e\n      \u003ctd\u003e324.50\u003c/td\u003e\n      \u003ctd\u003e1\u003c/td\u003e\n      \u003ctd\u003eexpensive\u003c/td\u003e\n      \u003ctd\u003e3\u003c/td\u003e\n      \u003ctd\u003e3\u003c/td\u003e\n      \u003ctd\u003e6.0\u003c/td\u003e\n    \u003c/tr\u003e\n    \u003ctr\u003e\n      \u003cth\u003e2\u003c/th\u003e\n      \u003ctd\u003eC1160421902'\u003c/td\u003e\n      \u003ctd\u003e3\u003c/td\u003e\n      \u003ctd\u003eM'\u003c/td\u003e\n      \u003ctd\u003e28007'\u003c/td\u003e\n      \u003ctd\u003eM857378720'\u003c/td\u003e\n      \u003ctd\u003e28007'\u003c/td\u003e\n      \u003ctd\u003ees_hotelservices'\u003c/td\u003e\n      \u003ctd\u003e176.32\u003c/td\u003e\n      \u003ctd\u003e1\u003c/td\u003e\n      \u003ctd\u003eexpensive\u003c/td\u003e\n      \u003ctd\u003e3\u003c/td\u003e\n      \u003ctd\u003e3\u003c/td\u003e\n      \u003ctd\u003e8.0\u003c/td\u003e\n    \u003c/tr\u003e\n    \u003ctr\u003e\n      \u003cth\u003e3\u003c/th\u003e\n      \u003ctd\u003eC966214713'\u003c/td\u003e\n      \u003ctd\u003e3\u003c/td\u003e\n      \u003ctd\u003eM'\u003c/td\u003e\n      \u003ctd\u003e28007'\u003c/td\u003e\n      \u003ctd\u003eM857378720'\u003c/td\u003e\n      \u003ctd\u003e28007'\u003c/td\u003e\n      \u003ctd\u003ees_hotelservices'\u003c/td\u003e\n      \u003ctd\u003e337.41\u003c/td\u003e\n      \u003ctd\u003e1\u003c/td\u003e\n      \u003ctd\u003eexpensive\u003c/td\u003e\n      \u003ctd\u003e3\u003c/td\u003e\n      \u003ctd\u003e3\u003c/td\u003e\n      \u003ctd\u003e8.0\u003c/td\u003e\n    \u003c/tr\u003e\n    \u003ctr\u003e\n      \u003cth\u003e4\u003c/th\u003e\n      \u003ctd\u003eC1450140987'\u003c/td\u003e\n      \u003ctd\u003e4\u003c/td\u003e\n      \u003ctd\u003eF'\u003c/td\u003e\n      \u003ctd\u003e28007'\u003c/td\u003e\n      \u003ctd\u003eM1198415165'\u003c/td\u003e\n      \u003ctd\u003e28007'\u003c/td\u003e\n      \u003ctd\u003ees_wellnessandbeauty'\u003c/td\u003e\n      \u003ctd\u003e220.11\u003c/td\u003e\n      \u003ctd\u003e1\u003c/td\u003e\n      \u003ctd\u003eexpensive\u003c/td\u003e\n      \u003ctd\u003e2\u003c/td\u003e\n      \u003ctd\u003e3\u003c/td\u003e\n      \u003ctd\u003e16.0\u003c/td\u003e\n    \u003c/tr\u003e\n    \u003ctr\u003e\n      \u003cth\u003e...\u003c/th\u003e\n      \u003ctd\u003e...\u003c/td\u003e\n      \u003ctd\u003e...\u003c/td\u003e\n      \u003ctd\u003e...\u003c/td\u003e\n      \u003ctd\u003e...\u003c/td\u003e\n      \u003ctd\u003e...\u003c/td\u003e\n      \u003ctd\u003e...\u003c/td\u003e\n      \u003ctd\u003e...\u003c/td\u003e\n      \u003ctd\u003e...\u003c/td\u003e\n      \u003ctd\u003e...\u003c/td\u003e\n      \u003ctd\u003e...\u003c/td\u003e\n      \u003ctd\u003e...\u003c/td\u003e\n      \u003ctd\u003e...\u003c/td\u003e\n      \u003ctd\u003e...\u003c/td\u003e\n    \u003c/tr\u003e\n    \u003ctr\u003e\n      \u003cth\u003e144631\u003c/th\u003e\n      \u003ctd\u003eC1375103798'\u003c/td\u003e\n      \u003ctd\u003e3\u003c/td\u003e\n      \u003ctd\u003eF'\u003c/td\u003e\n      \u003ctd\u003e28007'\u003c/td\u003e\n      \u003ctd\u003eM348934600'\u003c/td\u003e\n      \u003ctd\u003e28007'\u003c/td\u003e\n      \u003ctd\u003ees_transportation'\u003c/td\u003e\n      \u003ctd\u003e56.93\u003c/td\u003e\n      \u003ctd\u003e0\u003c/td\u003e\n      \u003ctd\u003emid\u003c/td\u003e\n      \u003ctd\u003e2\u003c/td\u003e\n      \u003ctd\u003e2\u003c/td\u003e\n      \u003ctd\u003e14.0\u003c/td\u003e\n    \u003c/tr\u003e\n    \u003ctr\u003e\n      \u003cth\u003e144632\u003c/th\u003e\n      \u003ctd\u003eC1557540123'\u003c/td\u003e\n      \u003ctd\u003e4\u003c/td\u003e\n      \u003ctd\u003eF'\u003c/td\u003e\n      \u003ctd\u003e28007'\u003c/td\u003e\n      \u003ctd\u003eM855959430'\u003c/td\u003e\n      \u003ctd\u003e28007'\u003c/td\u003e\n      \u003ctd\u003ees_hyper'\u003c/td\u003e\n      \u003ctd\u003e72.14\u003c/td\u003e\n      \u003ctd\u003e0\u003c/td\u003e\n      \u003ctd\u003emid\u003c/td\u003e\n      \u003ctd\u003e2\u003c/td\u003e\n      \u003ctd\u003e2\u003c/td\u003e\n      \u003ctd\u003e9.0\u003c/td\u003e\n    \u003c/tr\u003e\n    \u003ctr\u003e\n      \u003cth\u003e144633\u003c/th\u003e\n      \u003ctd\u003eC1201848792'\u003c/td\u003e\n      \u003ctd\u003e2\u003c/td\u003e\n      \u003ctd\u003eF'\u003c/td\u003e\n      \u003ctd\u003e28007'\u003c/td\u003e\n      \u003ctd\u003eM855959430'\u003c/td\u003e\n      \u003ctd\u003e28007'\u003c/td\u003e\n      \u003ctd\u003ees_hyper'\u003c/td\u003e\n      \u003ctd\u003e40.12\u003c/td\u003e\n      \u003ctd\u003e0\u003c/td\u003e\n      \u003ctd\u003enormal\u003c/td\u003e\n      \u003ctd\u003e2\u003c/td\u003e\n      \u003ctd\u003e1\u003c/td\u003e\n      \u003ctd\u003e9.0\u003c/td\u003e\n    \u003c/tr\u003e\n    \u003ctr\u003e\n      \u003cth\u003e144634\u003c/th\u003e\n      \u003ctd\u003eC1089903335'\u003c/td\u003e\n      \u003ctd\u003e3\u003c/td\u003e\n      \u003ctd\u003eM'\u003c/td\u003e\n      \u003ctd\u003e28007'\u003c/td\u003e\n      \u003ctd\u003eM1823072687'\u003c/td\u003e\n      \u003ctd\u003e28007'\u003c/td\u003e\n      \u003ctd\u003ees_transportation'\u003c/td\u003e\n      \u003ctd\u003e10.90\u003c/td\u003e\n      \u003ctd\u003e0\u003c/td\u003e\n      \u003ctd\u003enormal\u003c/td\u003e\n      \u003ctd\u003e3\u003c/td\u003e\n      \u003ctd\u003e1\u003c/td\u003e\n      \u003ctd\u003e14.0\u003c/td\u003e\n    \u003c/tr\u003e\n    \u003ctr\u003e\n      \u003cth\u003e144635\u003c/th\u003e\n      \u003ctd\u003eC326815335'\u003c/td\u003e\n      \u003ctd\u003e1\u003c/td\u003e\n      \u003ctd\u003eF'\u003c/td\u003e\n      \u003ctd\u003e28007'\u003c/td\u003e\n      \u003ctd\u003eM348934600'\u003c/td\u003e\n      \u003ctd\u003e28007'\u003c/td\u003e\n      \u003ctd\u003ees_transportation'\u003c/td\u003e\n      \u003ctd\u003e26.05\u003c/td\u003e\n      \u003ctd\u003e0\u003c/td\u003e\n      \u003ctd\u003enormal\u003c/td\u003e\n      \u003ctd\u003e2\u003c/td\u003e\n      \u003ctd\u003e1\u003c/td\u003e\n      \u003ctd\u003e14.0\u003c/td\u003e\n    \u003c/tr\u003e\n  \u003c/tbody\u003e\n\u003c/table\u003e\n\u003cp\u003e144636 rows × 13 columns\u003c/p\u003e\n\u003c/div\u003e",
                        "text/plain": "            customer  age gender zipcodeOri      merchant zipMerchant  \\\n0        C583110837'    3     M'     28007'   M480139044'      28007'   \n1       C1332295774'    3     M'     28007'   M480139044'      28007'   \n2       C1160421902'    3     M'     28007'   M857378720'      28007'   \n3        C966214713'    3     M'     28007'   M857378720'      28007'   \n4       C1450140987'    4     F'     28007'  M1198415165'      28007'   \n...              ...  ...    ...        ...           ...         ...   \n144631  C1375103798'    3     F'     28007'   M348934600'      28007'   \n144632  C1557540123'    4     F'     28007'   M855959430'      28007'   \n144633  C1201848792'    2     F'     28007'   M855959430'      28007'   \n144634  C1089903335'    3     M'     28007'  M1823072687'      28007'   \n144635   C326815335'    1     F'     28007'   M348934600'      28007'   \n\n                     category  amount  fraud Price Ranges  Gender by Number  \\\n0                  es_health'   44.26      1       normal                 3   \n1                  es_health'  324.50      1    expensive                 3   \n2           es_hotelservices'  176.32      1    expensive                 3   \n3           es_hotelservices'  337.41      1    expensive                 3   \n4       es_wellnessandbeauty'  220.11      1    expensive                 2   \n...                       ...     ...    ...          ...               ...   \n144631     es_transportation'   56.93      0          mid                 2   \n144632              es_hyper'   72.14      0          mid                 2   \n144633              es_hyper'   40.12      0       normal                 2   \n144634     es_transportation'   10.90      0       normal                 3   \n144635     es_transportation'   26.05      0       normal                 2   \n\n        Price Ranges by Number  Category by Number  \n0                            1                 6.0  \n1                            3                 6.0  \n2                            3                 8.0  \n3                            3                 8.0  \n4                            3                16.0  \n...                        ...                 ...  \n144631                       2                14.0  \n144632                       2                 9.0  \n144633                       1                 9.0  \n144634                       1                14.0  \n144635                       1                14.0  \n\n[144636 rows x 13 columns]"
                    },
                    "execution_count": 542,
                    "metadata": {},
                    "output_type": "execute_result"
                }
            ],
            "source": [
                "df"
            ]
        },
        {
            "attachments": {},
            "cell_type": "markdown",
            "metadata": {},
            "source": [
                "# **More Data Visualizations**\n",
                "\n",
                "#   Pie Charts"
            ]
        },
        {
            "cell_type": "code",
            "execution_count": 543,
            "metadata": {},
            "outputs": [
                {
                    "data": {
                        "text/plain": "fraud  gender\n0      E'          225\n       F'        74884\n       M'        62190\n       U'          137\n1      E'            7\n       F'         4758\n       M'         2435\nName: customer, dtype: int64"
                    },
                    "execution_count": 543,
                    "metadata": {},
                    "output_type": "execute_result"
                }
            ],
            "source": [
                "df.groupby(['fraud', 'gender'])['customer'].count()"
            ]
        },
        {
            "cell_type": "code",
            "execution_count": 544,
            "metadata": {},
            "outputs": [
                {
                    "name": "stdout",
                    "output_type": "stream",
                    "text": "Gender composition of Fruad\n"
                },
                {
                    "data": {
                        "image/png": "[encoded data removed]",
                        "text/plain": "\u003cFigure size 432x288 with 1 Axes\u003e"
                    },
                    "metadata": {},
                    "output_type": "display_data"
                }
            ],
            "source": [
                "print(\"Gender composition of Fruad\")\n",
                "parts = ['Enterprise', 'Female', 'Male']\n",
                "slices = [7,4758,2435]\n",
                "color = ['r', 'g', 'b']\n",
                "plt.pie(slices, labels = parts, colors = color,explode=(.5, 0, 0), autopct = '%1.2f%%')\n",
                "plt.legend()\n",
                "plt.show()"
            ]
        },
        {
            "cell_type": "code",
            "execution_count": 545,
            "metadata": {},
            "outputs": [
                {
                    "data": {
                        "text/plain": "fraud  category              \n0      es_barsandrestaurants'      2379\n       es_contents'                 189\n       es_fashion'                 1537\n       es_food'                    3917\n       es_health'                  2701\n       es_home'                     456\n       es_hotelservices'            324\n       es_hyper'                   2131\n       es_leisure'                   11\n       es_otherservices'            341\n       es_sportsandtoys'            753\n       es_tech'                     526\n       es_transportation'        118418\n       es_travel'                    58\n       es_wellnessandbeauty'       3695\n1      es_barsandrestaurants'       120\n       es_fashion'                  116\n       es_health'                  1696\n       es_home'                     302\n       es_hotelservices'            548\n       es_hyper'                    280\n       es_leisure'                  474\n       es_otherservices'            228\n       es_sportsandtoys'           1982\n       es_tech'                     158\n       es_travel'                   578\n       es_wellnessandbeauty'        718\nName: customer, dtype: int64"
                    },
                    "execution_count": 545,
                    "metadata": {},
                    "output_type": "execute_result"
                }
            ],
            "source": [
                "df.groupby(['fraud', 'category'])['customer'].count()"
            ]
        },
        {
            "cell_type": "code",
            "execution_count": 546,
            "metadata": {},
            "outputs": [
                {
                    "name": "stdout",
                    "output_type": "stream",
                    "text": "Category composition of Fraud\n"
                },
                {
                    "data": {
                        "image/png": "[encoded data removed]",
                        "text/plain": "\u003cFigure size 432x288 with 1 Axes\u003e"
                    },
                    "metadata": {},
                    "output_type": "display_data"
                }
            ],
            "source": [
                "print(\"Category composition of Fraud\")\n",
                "parts = ['Auto', 'Bars and restaurants', 'Books and press' , 'Fashion',\n",
                "'Food', 'Health', 'Home', 'Accomodations', 'Hypermarkets', 'Leisure', 'Other services',\n",
                "'Sports and toys', 'technology', 'transport', 'travel', 'wellness and beauty']\n",
                "slices = [0,120,0,116,0,1696,302,548,280,474,228,1982,158,0,578,718]\n",
                "color = ['r', 'g', 'b', '#55d621', '#0c2f48', '#685572', '#f2cb54', '#d51549', '#a82195', '#89644f', '#91323d', '#fd3c60', '#610924', '#00cbf2', '#5a0ee1', '#9d93ef']\n",
                "plt.pie(slices, labels = parts, colors = color, explode = (1.5,0.2,1.5,1,1.5,0,0,0,0,0,0,0,1,0.3,0,0), autopct = '%1.2f%%')\n",
                "plt.show()"
            ]
        },
        {
            "cell_type": "code",
            "execution_count": 547,
            "metadata": {},
            "outputs": [
                {
                    "data": {
                        "text/plain": "fraud  age\n0      0        488\n       1      13692\n       2      43703\n       3      33495\n       4      24916\n       5      14751\n       6       6166\n       7        225\n1      0         48\n       1        689\n       2       2344\n       3       1755\n       4       1410\n       5        686\n       6        261\n       7          7\nName: customer, dtype: int64"
                    },
                    "execution_count": 547,
                    "metadata": {},
                    "output_type": "execute_result"
                }
            ],
            "source": [
                "df.groupby(['fraud', 'age'])['customer'].count()"
            ]
        },
        {
            "cell_type": "code",
            "execution_count": 548,
            "metadata": {},
            "outputs": [
                {
                    "name": "stdout",
                    "output_type": "stream",
                    "text": "Age composition of Fraud\n"
                },
                {
                    "data": {
                        "image/png": "[encoded data removed]",
                        "text/plain": "\u003cFigure size 432x288 with 1 Axes\u003e"
                    },
                    "metadata": {},
                    "output_type": "display_data"
                }
            ],
            "source": [
                "print(\"Age composition of Fraud\")\n",
                "\n",
                "parts = ['\u003c 18', '19-25', '26-35', '36 - 45', '46 - 55', '56 - 65', '\u003e 65', 'Unknown']\n",
                "slices = [48, 689, 2344, 1755, 1410, 686, 261, 7]\n",
                "color = ['r', 'g', 'b', '#0c2f48', '#685572', '#f2cb54', '#d51549']\n",
                "plt.pie(slices, labels = parts, colors = color, explode=(2, 0, 0, 0, 0, 0, 0.2, 0.5), autopct = '%1.2f%%')\n",
                "plt.show()"
            ]
        },
        {
            "cell_type": "code",
            "execution_count": 549,
            "metadata": {},
            "outputs": [
                {
                    "data": {
                        "text/plain": "fraud  Price Ranges\n0      expensive         3397\n       mid              18810\n       normal          115229\n1      expensive         6061\n       mid                550\n       normal             589\nName: customer, dtype: int64"
                    },
                    "execution_count": 549,
                    "metadata": {},
                    "output_type": "execute_result"
                }
            ],
            "source": [
                "df.groupby(['fraud', 'Price Ranges'])['customer'].count()"
            ]
        },
        {
            "cell_type": "code",
            "execution_count": 550,
            "metadata": {},
            "outputs": [
                {
                    "name": "stdout",
                    "output_type": "stream",
                    "text": "Price composition of pie chart\n"
                },
                {
                    "data": {
                        "image/png": "[encoded data removed]",
                        "text/plain": "\u003cFigure size 432x288 with 1 Axes\u003e"
                    },
                    "metadata": {},
                    "output_type": "display_data"
                }
            ],
            "source": [
                "print(\"Price composition of pie chart\")\n",
                "parts = ['Expensive', 'Middle', 'Normal']\n",
                "slices = [6061,550,589]\n",
                "color = ['r', 'g', 'b']\n",
                "plt.pie(slices, labels = parts, colors = color,explode=(0, 0, 0), autopct = '%1.2f%%')\n",
                "plt.legend()\n",
                "plt.show()"
            ]
        },
        {
            "attachments": {},
            "cell_type": "markdown",
            "metadata": {},
            "source": [
                "# **Split the dataset into training and testing**"
            ]
        },
        {
            "cell_type": "code",
            "execution_count": 551,
            "metadata": {},
            "outputs": [
                {
                    "name": "stdout",
                    "output_type": "stream",
                    "text": "customer\nage\ngender\nzipcodeOri\nmerchant\nzipMerchant\ncategory\namount\nfraud\nPrice Ranges\nGender by Number\nPrice Ranges by Number\nCategory by Number\n"
                }
            ],
            "source": [
                "#show column names\n",
                "for i in range(len(df.columns)):\n",
                "    print(df.columns[i])"
            ]
        },
        {
            "cell_type": "code",
            "execution_count": 0,
            "metadata": {},
            "outputs": [],
            "source": [
                "#x_train = x_train[~np.isnan(x_train).any(axis=1)]\n",
                "#x_test = x_test[~np.isnan(x_test).any(axis=1)]\n",
                "#y_train = y_train[~np.isnan(y_train).any(axis=1)]\n",
                "#y_test = y_test[~np.isnan(y_test).any(axis=1)]"
            ]
        },
        {
            "cell_type": "code",
            "execution_count": 594,
            "metadata": {},
            "outputs": [],
            "source": [
                "df = df.dropna()"
            ]
        },
        {
            "cell_type": "code",
            "execution_count": 595,
            "metadata": {},
            "outputs": [
                {
                    "data": {
                        "text/plain": "array([[ 3.,  3.,  1.,  6.],\n       [ 3.,  3.,  3.,  6.],\n       [ 3.,  3.,  3.,  8.],\n       ...,\n       [ 2.,  2.,  1.,  9.],\n       [ 3.,  3.,  1., 14.],\n       [ 1.,  2.,  1., 14.]])"
                    },
                    "execution_count": 595,
                    "metadata": {},
                    "output_type": "execute_result"
                }
            ],
            "source": [
                "independent = df.iloc[0:,[1, 10, 11, 12]].values\n",
                "independent "
            ]
        },
        {
            "cell_type": "code",
            "execution_count": 596,
            "metadata": {},
            "outputs": [
                {
                    "data": {
                        "text/plain": "array([[1],\n       [1],\n       [1],\n       ...,\n       [0],\n       [0],\n       [0]])"
                    },
                    "execution_count": 596,
                    "metadata": {},
                    "output_type": "execute_result"
                }
            ],
            "source": [
                "dependent = df.iloc[0:,[8]].values\n",
                "dependent"
            ]
        },
        {
            "cell_type": "code",
            "execution_count": 597,
            "metadata": {},
            "outputs": [],
            "source": [
                "x_train,x_test,y_train,y_test = train_test_split(independent, dependent, test_size = 0.2, random_state=42)"
            ]
        },
        {
            "cell_type": "code",
            "execution_count": 598,
            "metadata": {},
            "outputs": [
                {
                    "data": {
                        "text/plain": "array([[ 2.,  2.,  1., 14.],\n       [ 5.,  3.,  1., 14.],\n       [ 3.,  2.,  1., 14.],\n       ...,\n       [ 2.,  2.,  1., 14.],\n       [ 2.,  3.,  1., 14.],\n       [ 4.,  2.,  1., 14.]])"
                    },
                    "execution_count": 598,
                    "metadata": {},
                    "output_type": "execute_result"
                }
            ],
            "source": [
                "x_train"
            ]
        },
        {
            "cell_type": "code",
            "execution_count": 599,
            "metadata": {},
            "outputs": [
                {
                    "data": {
                        "text/plain": "array([[ 3.,  2.,  1., 14.],\n       [ 4.,  2.,  1., 14.],\n       [ 4.,  3.,  1., 14.],\n       ...,\n       [ 3.,  3.,  1., 14.],\n       [ 5.,  3.,  1.,  9.],\n       [ 3.,  2.,  3.,  6.]])"
                    },
                    "execution_count": 599,
                    "metadata": {},
                    "output_type": "execute_result"
                }
            ],
            "source": [
                "x_test"
            ]
        },
        {
            "cell_type": "code",
            "execution_count": 557,
            "metadata": {},
            "outputs": [],
            "source": [
                "#stndrd = StandardScaler()\n",
                "#x_train = stndrd.fit_transform(x_train)"
            ]
        },
        {
            "cell_type": "code",
            "execution_count": 558,
            "metadata": {},
            "outputs": [],
            "source": [
                "#x_test = stndrd.fit_transform(x_test)"
            ]
        },
        {
            "cell_type": "code",
            "execution_count": 600,
            "metadata": {},
            "outputs": [
                {
                    "data": {
                        "text/plain": "array([[ 2.,  2.,  1., 14.],\n       [ 5.,  3.,  1., 14.],\n       [ 3.,  2.,  1., 14.],\n       ...,\n       [ 2.,  2.,  1., 14.],\n       [ 2.,  3.,  1., 14.],\n       [ 4.,  2.,  1., 14.]])"
                    },
                    "execution_count": 600,
                    "metadata": {},
                    "output_type": "execute_result"
                }
            ],
            "source": [
                "x_train"
            ]
        },
        {
            "cell_type": "code",
            "execution_count": 601,
            "metadata": {},
            "outputs": [
                {
                    "data": {
                        "text/plain": "array([[ 3.,  2.,  1., 14.],\n       [ 4.,  2.,  1., 14.],\n       [ 4.,  3.,  1., 14.],\n       ...,\n       [ 3.,  3.,  1., 14.],\n       [ 5.,  3.,  1.,  9.],\n       [ 3.,  2.,  3.,  6.]])"
                    },
                    "execution_count": 601,
                    "metadata": {},
                    "output_type": "execute_result"
                }
            ],
            "source": [
                "x_test"
            ]
        },
        {
            "cell_type": "code",
            "execution_count": 561,
            "metadata": {},
            "outputs": [],
            "source": [
                "#for i in range(len(x_train)):\n",
                " #       x_train[i] = x_train[i][numpy.logical_not(numpy.isnan(x_train[i]))]"
            ]
        },
        {
            "cell_type": "code",
            "execution_count": 602,
            "metadata": {},
            "outputs": [
                {
                    "data": {
                        "text/plain": "array([[ 2.,  2.,  1., 14.],\n       [ 5.,  3.,  1., 14.],\n       [ 3.,  2.,  1., 14.],\n       ...,\n       [ 2.,  2.,  1., 14.],\n       [ 2.,  3.,  1., 14.],\n       [ 4.,  2.,  1., 14.]])"
                    },
                    "execution_count": 602,
                    "metadata": {},
                    "output_type": "execute_result"
                }
            ],
            "source": [
                "numpy.set_printoptions(threshold=10)\n",
                "x_train"
            ]
        },
        {
            "cell_type": "code",
            "execution_count": 603,
            "metadata": {},
            "outputs": [],
            "source": [
                "lr = LogisticRegression(random_state = 42)\n",
                ""
            ]
        },
        {
            "cell_type": "code",
            "execution_count": 604,
            "metadata": {},
            "outputs": [
                {
                    "name": "stderr",
                    "output_type": "stream",
                    "text": "/usr/lib/python3.10/site-packages/sklearn/utils/validation.py:993: DataConversionWarning: A column-vector y was passed when a 1d array was expected. Please change the shape of y to (n_samples, ), for example using ravel().\n  y = column_or_1d(y, warn=True)\n"
                },
                {
                    "data": {
                        "text/plain": "LogisticRegression(random_state=42)"
                    },
                    "execution_count": 604,
                    "metadata": {},
                    "output_type": "execute_result"
                }
            ],
            "source": [
                "#fit the model \n",
                "lr.fit(x_train, y_train)"
            ]
        },
        {
            "cell_type": "code",
            "execution_count": 606,
            "metadata": {},
            "outputs": [],
            "source": [
                "#getting predictions using model\n",
                "\n",
                "y_predict = lr.predict(x_test)"
            ]
        },
        {
            "cell_type": "code",
            "execution_count": 607,
            "metadata": {},
            "outputs": [
                {
                    "data": {
                        "text/plain": "0.9676388888888889"
                    },
                    "execution_count": 607,
                    "metadata": {},
                    "output_type": "execute_result"
                }
            ],
            "source": [
                "#getting accuracy using model scoring\n",
                "\n",
                "lr.score(x_test, y_test)"
            ]
        },
        {
            "cell_type": "code",
            "execution_count": 622,
            "metadata": {},
            "outputs": [
                {
                    "name": "stdout",
                    "output_type": "stream",
                    "text": "0.9676388888888889\n"
                }
            ],
            "source": [
                "from sklearn.metrics import accuracy_score\n",
                "score = accuracy_score(y_test, y_predict)\n",
                "print(score)"
            ]
        },
        {
            "cell_type": "code",
            "execution_count": 624,
            "metadata": {},
            "outputs": [
                {
                    "name": "stdout",
                    "output_type": "stream",
                    "text": "Baseline accuracy score 97.0%\n"
                }
            ],
            "source": [
                "print(f'Baseline accuracy score {round(score*100, 0)}%')"
            ]
        },
        {
            "cell_type": "code",
            "execution_count": 626,
            "metadata": {},
            "outputs": [
                {
                    "name": "stdout",
                    "output_type": "stream",
                    "text": "True Positve = 26833 out of 28800 Which is 93.17013888888889\nTrue Negative = 1035 out of 28800 Which is 3.5937499999999996\nFalse Positve = 632 out of 28800 Which is 2.194444444444444\nFalse Negative = 300 out of 28800 Which is 1.0416666666666665\n"
                }
            ],
            "source": [
                "# Show the Confusion Matrix\n",
                "cmatr = confusion_matrix(y_test, y_predict)\n",
                "TP = cmatr[0][0]\n",
                "TN = cmatr[1][1]\n",
                "FP = cmatr[0][1]\n",
                "FN = cmatr[1][0]\n",
                "\n",
                "print(\"True Positive =\", TP, \"out of\", len(y_predict), \"Which is\", TP/len(y_predict)*100)\n",
                "print(\"True Negative =\", TN, \"out of\", len(y_predict), \"Which is\", TN/len(y_predict)*100)\n",
                "print(\"False Positive =\", FP, \"out of\", len(y_predict), \"Which is\", FP/len(y_predict)*100)\n",
                "print(\"False Negative =\",FN, \"out of\" , len(y_predict), \"Which is\", FN/len(y_predict)*100)\n",
                ""
            ]
        },
        {
            "cell_type": "code",
            "execution_count": 633,
            "metadata": {},
            "outputs": [
                {
                    "name": "stdout",
                    "output_type": "stream",
                    "text": "[[-0.03484407 -0.40460396  3.0626623  -0.04032286]]\n\n['age', 'Gender', 'Price Ranges', 'Category']\n"
                }
            ],
            "source": [
                "print(lr.coef_)\n",
                "print()\n",
                "print([\"age\", \"Gender\", \"Price Ranges\", \"Category\"])"
            ]
        },
        {
            "attachments": {},
            "cell_type": "markdown",
            "metadata": {},
            "source": [
                "A positive coefficient indicates that as the value of the independent variable increases, the mean of the dependent variable also tends to increase. A negative coefficient suggests that as the independent variable increases, the dependent variable tends to decrease.\n",
                "\n",
                "Which means as age is in the lower categories the chances of fraud increases\n",
                "\n",
                "Which means as Gender decrease [E, F, M, G] - that leans more towards female as scene in the data visualization that showed in the data that more customers labeled as female had fraudlent transactions\n",
                "\n",
                "Which means that as the price increases the chance of the transaction being fraudelent increases\n",
                "\n",
                "Finally it means that as the transaction enters the later categories of around 'Sports and toys', 'technology', 'transport', 'travel', 'wellness and beauty the transaction may be fraud."
            ]
        },
        {
            "attachments": {},
            "cell_type": "markdown",
            "metadata": {},
            "source": [
                "\n",
                "# **Discussion Questions**"
            ]
        },
        {
            "attachments": {},
            "cell_type": "markdown",
            "metadata": {},
            "source": [
                "**Discussion in the your project notebook (add a text cell and answer the following questions):**"
            ]
        },
        {
            "attachments": {},
            "cell_type": "markdown",
            "metadata": {},
            "source": [
                "**Question**\n",
                "\n",
                "A. Describe your dataset.  \n",
                "1. How many rows are there? \n",
                "2. What are the names of some interesting columns?\n",
                "3. Which data type are the columns?"
            ]
        },
        {
            "attachments": {},
            "cell_type": "markdown",
            "metadata": {},
            "source": [
                "**Answer**"
            ]
        },
        {
            "attachments": {},
            "cell_type": "markdown",
            "metadata": {},
            "source": [
                "1. 594645 rows\n",
                "\n",
                "2. The fraud column is interesting because the data is meant to help with fraud detection but it's probably about 1-5% of the data that's fraud.\n",
                "\n",
                "3. There are two data sets and combined there are 10 string columns, 3 Integer columns and 2 Decimal columns."
            ]
        },
        {
            "attachments": {},
            "cell_type": "markdown",
            "metadata": {},
            "source": [
                "**Question**\n",
                "\n",
                "B. What are a few predictions you would like to investigate?"
            ]
        },
        {
            "attachments": {},
            "cell_type": "markdown",
            "metadata": {},
            "source": [
                "**Answer**"
            ]
        },
        {
            "attachments": {},
            "cell_type": "markdown",
            "metadata": {},
            "source": [
                "Some predictions I would like to investigate are \n",
                "\n",
                "a. If certain age or gender demographics buying products can be good indicators for fraud\n",
                "\n",
                "b. If purchases that are too far from each other in a short amount of time can indicate fruad."
            ]
        },
        {
            "attachments": {},
            "cell_type": "markdown",
            "metadata": {},
            "source": [
                "**Question**\n",
                "\n",
                "C. What do your initial data visualizations tell you about your data?"
            ]
        },
        {
            "attachments": {},
            "cell_type": "markdown",
            "metadata": {},
            "source": [
                "**Answer**"
            ]
        },
        {
            "attachments": {},
            "cell_type": "markdown",
            "metadata": {},
            "source": [
                "A lot of the purchases are within 0 - 100 euros"
            ]
        },
        {
            "attachments": {},
            "cell_type": "markdown",
            "metadata": {},
            "source": [
                "**Question**\n",
                "\n",
                "D. What inconsistencies do you notice in your data? "
            ]
        },
        {
            "attachments": {},
            "cell_type": "markdown",
            "metadata": {},
            "source": [
                "**Answer**"
            ]
        },
        {
            "attachments": {},
            "cell_type": "markdown",
            "metadata": {},
            "source": [
                "None were noticed"
            ]
        },
        {
            "attachments": {},
            "cell_type": "markdown",
            "metadata": {},
            "source": [
                "**Question**\n",
                "\n",
                "E. What are other columns (“features”) you would like to add to your data?"
            ]
        },
        {
            "attachments": {},
            "cell_type": "markdown",
            "metadata": {},
            "source": [
                "**Answer**\n",
                "\n",
                "average amount of money spent in the 16 goods categories\n",
                "\n",
                "average amount of money spent in a zipcode"
            ]
        },
        {
            "attachments": {},
            "cell_type": "markdown",
            "metadata": {},
            "source": [
                "# **Phase 2 Discussion Questions**\n",
                "\n",
                "**Summarize the data preparation techniques and steps your team applied to your data**\n",
                "\n",
                "    We removed the extra data we didin't need. \n",
                "\n",
                "**What additional work does your team need to do in order to fully prepare your data?**\n",
                "\n",
                "    none honestly."
            ]
        },
        {
            "attachments": {},
            "cell_type": "markdown",
            "metadata": {},
            "source": [
                "# **Phase 3 Discussion Questions**\n",
                "\n",
                "**Describe the data in words?**\n",
                "\n",
                "A list of different transactions with descriptions of the customer and the merchant used to determine if the transaction is fraudulent.\n",
                "\n",
                "\n",
                "---\n",
                "\n",
                "\n",
                "**What is important to you about this dataset? What do you want the reader to take-away from looking at this visualization?**\n",
                "\n",
                "What factors would most likely lead to a transaction being labled as fraudulent.\n",
                "\n",
                "\n",
                "---\n",
                "\n",
                "**What visualization decisions did you make that are driven by the takeaway message? (scale, colors, mark type, text, lines to show thresholds, annotations, how data was grouped, etc)**\n",
                "I used pie charts in order to see what different values in a category where determined to be in a fraudulent transaction.\n",
                "\n",
                "---\n",
                "\n",
                "**Data is never \"pure\"; it always comes from somewhere. Is there anything you think is important to note about what might not have been captured in the dataset?**\n",
                "\n",
                "overall economic health of where the data was synthesized is not mentioned at all in the data description, which may make the data unreliable because the health of the economy can effect the number of fraudulent transactions"
            ]
        },
        {
            "attachments": {},
            "cell_type": "markdown",
            "metadata": {},
            "source": [
                "\n",
                "# **Phase 4 Discussion Questions**\n",
                "\n",
                "**How are you evaluating the performance of your implementation?**\n",
                "\n",
                "Based on if it can identify fraud in the testing model and how many times it can identify such fraud.\n",
                "\n",
                "\n",
                "---\n",
                "\n",
                "\n",
                "**What is your reasoning for taking this approach?**\n",
                "\n",
                "since it is a fraud detector it makes sense that it a good test performance evaluation is the ability to serve its purpose."
            ]
        }
    ]
}
