{
    "metadata": {
        "kernelspec": {
            "name": "python3",
            "display_name": "Python 3 (ipykernel)",
            "language": "python"
        }
    },
    "nbformat": 4,
    "nbformat_minor": 2,
    "cells": [
        {
            "attachments": {},
            "cell_type": "markdown",
            "metadata": {},
            "source": [
                "# **Requirements**"
            ]
        },
        {
            "attachments": {},
            "cell_type": "markdown",
            "metadata": {},
            "source": [
                "* Names\n",
                "\n",
                "* Topic of Interest\n",
                "\n",
                "* Summary of why this topic is interesting/ important, \n",
                "\n",
                "* how data will be used and how the team can investigate impact.\n",
                "\n",
                "* Type of machine learning algorithms(s)  the team intends to used\n",
                "\n",
                "* Research question that the team hopes to answer using data\n",
                "\n",
                "* Dataset(s) of interest that is relevant to the topic; dataset must have enough data to test and train a model.\n",
                "\n",
                "* Identify potential sources of bias\n",
                "\n",
                "* Citations:\n",
                "    * At least 3 to 4 citations related to the proposed topic\n",
                "\n",
                "    * Sources of data\n",
                ""
            ]
        },
        {
            "attachments": {},
            "cell_type": "markdown",
            "metadata": {},
            "source": [
                "Ewherido Oghenetejiri\n",
                "\n",
                "Diego Gonzalez\n",
                "\n",
                "\n",
                "Using an algorithm to detect credit card fraud\n",
                "\n",
                "This topic is interesting because the ability to make an assumption on the nature of an item from the items related to it is very interesting, and can be expanded into areas other than credit card fraud. It can be used in online learning to match the learning style of the student or in health care to make better diagnoses. So it is interesting to learn how to make an AI that can make those comparisons. \n",
                "\n",
                "The topic is important because the world as we know it is  moving into a cashless society and people are becoming more creative to take advantage of that. Back in the day when someone wanted to rob people they would break into a bank, now the banks themselves barely have physical cash as well. \n",
                "In order to keep up with this age of digitzation robbers have found ways to steal digitally, through methods like credit card skimming, or cloning and the classic ordinary theft. \n",
                "\n",
                "Since credit cards don't need the user to actually posses money to use it credit card theft is even more dangerous because the thief can buy alot of items quickly especially online. So it is important to create these algorithms to stop and in some caese prevent fraud when or before it happens.\n",
                "\n",
                "\n",
                "The data we acquried will be used to make a program that can guess/ state if a transaction is fraudelent based on the data provided.\n",
                "\n",
                "We will most likely use linear regression or classification algorithm since the data is already labeled and we are using supervised learning to make our Algorithm. \n",
                "\n",
                "Can gender be used as a good identifier for credit card fraud. \n",
                "Although our dataset is synthetic, it was based on real data, so we thought it would be interesting to see if gender can be an indicator. Of course gender alone doesn not determine anything it would be intersting if we could make conncetions with the data.\n",
                "\n",
                "\n",
                "The dataset we chose was Synthetic data from a financial payment system by BankSim on kaggle. It had so much data we had to trim it down. \n",
                "https://www.kaggle.com/datasets/ealaxi/banksim1\n",
                "\n",
                "\n",
                "Potential sources of bias are the period of time it took the data, since it was on the shorth side of about 6 months to a year, it may not be accurate enough to predict future fraudulent transatctions, since shopping and spening patterns tend to change a lot by year. So a longer data collection perios would lessen the bias. \n",
                "\n",
                "Another issue is that the data was only collected in two locations. and unfortunaltey during the cleaning process some of the data was lost. So the use of zipcodes to detect fraud will be unreliable since there are barely any locations \n",
                "\n",
                "Citations:\n",
                "\n",
                "At least 3 to 4 citations related to the proposed topic\n",
                "* https://www.researchgate.net/publication/265736405_BankSim_A_Bank_Payment_Simulation_for_Fraud_Detection_Research\n",
                "* https://towardsdatascience.com/credit-card-fraud-detection-using-machine-learning-python-5b098d4a8edc\n",
                "* https://spd.group/machine-learning/credit-card-fraud-detection/\n",
                "* https://data-flair.training/blogs/credit-card-fraud-detection-python-machine-learning/#:~:text=In%20this%20python%20machine%20learning,accuracy%20of%20more%20than%2099%25.\n",
                "\n",
                "Sources of data\n",
                "https://www.kaggle.com/datasets/ealaxi/banksim1"
            ]
        }
    ]
}
